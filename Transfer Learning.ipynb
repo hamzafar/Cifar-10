{
 "cells": [
  {
   "cell_type": "markdown",
   "metadata": {},
   "source": [
    "# Data Preperation"
   ]
  },
  {
   "cell_type": "code",
   "execution_count": 1,
   "metadata": {
    "collapsed": true,
    "scrolled": true
   },
   "outputs": [],
   "source": [
    "from scipy import ndimage\n",
    "import numpy as np\n",
    "np.random.seed(123)"
   ]
  },
  {
   "cell_type": "code",
   "execution_count": 2,
   "metadata": {
    "collapsed": true,
    "scrolled": true
   },
   "outputs": [],
   "source": [
    "import pandas as pd"
   ]
  },
  {
   "cell_type": "code",
   "execution_count": 3,
   "metadata": {
    "collapsed": true,
    "scrolled": true
   },
   "outputs": [],
   "source": [
    "# tmp_array = ndimage.imread('F:/cifar10/data/train/2.png')\n",
    "\n",
    "# tmp_array.shape"
   ]
  },
  {
   "cell_type": "code",
   "execution_count": 4,
   "metadata": {
    "collapsed": false,
    "scrolled": true
   },
   "outputs": [],
   "source": [
    "def convert_images_to_array(path, end, start = 0):\n",
    "    lst_train = []\n",
    "#     train_path = 'F:/cifar10/data/train/'\n",
    "    for i in range(start, end):\n",
    "        val = (str(i+1))\n",
    "    #     print(train_path + val+'.png')\n",
    "        lst_train.append(ndimage.imread(path + val+'.png'))\n",
    "\n",
    "    #Convert list to nd array    \n",
    "    return(np.array(lst_train))"
   ]
  },
  {
   "cell_type": "code",
   "execution_count": null,
   "metadata": {
    "collapsed": false,
    "scrolled": true
   },
   "outputs": [],
   "source": [
    "# convert train data to ndarray\n",
    "train_path = 'F:/cifar10/data/train/'\n",
    "np_train = convert_images_to_array(train_path, 50000)"
   ]
  },
  {
   "cell_type": "code",
   "execution_count": null,
   "metadata": {
    "collapsed": false,
    "scrolled": true
   },
   "outputs": [],
   "source": [
    "print(np_train.shape)"
   ]
  },
  {
   "cell_type": "code",
   "execution_count": null,
   "metadata": {
    "collapsed": true,
    "scrolled": true
   },
   "outputs": [],
   "source": [
    "# Normalize data\n",
    "np_train = np_train.astype('float32')\n",
    "np_train = np_train/255.0"
   ]
  },
  {
   "cell_type": "markdown",
   "metadata": {},
   "source": [
    "## creating labels"
   ]
  },
  {
   "cell_type": "code",
   "execution_count": 5,
   "metadata": {
    "collapsed": false,
    "scrolled": true
   },
   "outputs": [],
   "source": [
    "df_label = pd.read_csv('F:/cifar10/data/trainLabels.csv')"
   ]
  },
  {
   "cell_type": "code",
   "execution_count": 6,
   "metadata": {
    "collapsed": false,
    "scrolled": true
   },
   "outputs": [
    {
     "data": {
      "text/html": [
       "<div>\n",
       "<table border=\"1\" class=\"dataframe\">\n",
       "  <thead>\n",
       "    <tr style=\"text-align: right;\">\n",
       "      <th></th>\n",
       "      <th>id</th>\n",
       "      <th>label</th>\n",
       "    </tr>\n",
       "  </thead>\n",
       "  <tbody>\n",
       "    <tr>\n",
       "      <th>0</th>\n",
       "      <td>1</td>\n",
       "      <td>frog</td>\n",
       "    </tr>\n",
       "    <tr>\n",
       "      <th>1</th>\n",
       "      <td>2</td>\n",
       "      <td>truck</td>\n",
       "    </tr>\n",
       "    <tr>\n",
       "      <th>2</th>\n",
       "      <td>3</td>\n",
       "      <td>truck</td>\n",
       "    </tr>\n",
       "    <tr>\n",
       "      <th>3</th>\n",
       "      <td>4</td>\n",
       "      <td>deer</td>\n",
       "    </tr>\n",
       "    <tr>\n",
       "      <th>4</th>\n",
       "      <td>5</td>\n",
       "      <td>automobile</td>\n",
       "    </tr>\n",
       "  </tbody>\n",
       "</table>\n",
       "</div>"
      ],
      "text/plain": [
       "   id       label\n",
       "0   1        frog\n",
       "1   2       truck\n",
       "2   3       truck\n",
       "3   4        deer\n",
       "4   5  automobile"
      ]
     },
     "execution_count": 6,
     "metadata": {},
     "output_type": "execute_result"
    }
   ],
   "source": [
    "df_label.head()"
   ]
  },
  {
   "cell_type": "code",
   "execution_count": 7,
   "metadata": {
    "collapsed": false,
    "scrolled": true
   },
   "outputs": [
    {
     "data": {
      "text/plain": [
       "{'airplane': 9,\n",
       " 'automobile': 3,\n",
       " 'bird': 4,\n",
       " 'cat': 7,\n",
       " 'deer': 2,\n",
       " 'dog': 8,\n",
       " 'frog': 0,\n",
       " 'horse': 5,\n",
       " 'ship': 6,\n",
       " 'truck': 1}"
      ]
     },
     "execution_count": 7,
     "metadata": {},
     "output_type": "execute_result"
    }
   ],
   "source": [
    "## Create a dictionary with unique labels assigned number\n",
    "lab = list(df_label['label'].unique())\n",
    "lab_dic = {}\n",
    "for i in range(len(lab)):\n",
    "#     print(i)\n",
    "#     print(lab[i])\n",
    "    lab_dic[lab[i]] = i\n",
    "lab_dic"
   ]
  },
  {
   "cell_type": "code",
   "execution_count": 8,
   "metadata": {
    "collapsed": false,
    "scrolled": true
   },
   "outputs": [
    {
     "data": {
      "text/plain": [
       "7"
      ]
     },
     "execution_count": 8,
     "metadata": {},
     "output_type": "execute_result"
    }
   ],
   "source": [
    "a = 'cat'\n",
    "lab_dic.get(a)"
   ]
  },
  {
   "cell_type": "code",
   "execution_count": null,
   "metadata": {
    "collapsed": false,
    "scrolled": true
   },
   "outputs": [],
   "source": [
    "# [lab_dic.get(i) for i in df_label['label'] ]"
   ]
  },
  {
   "cell_type": "code",
   "execution_count": null,
   "metadata": {
    "collapsed": true,
    "scrolled": true
   },
   "outputs": [],
   "source": []
  },
  {
   "cell_type": "code",
   "execution_count": null,
   "metadata": {
    "collapsed": false,
    "scrolled": true
   },
   "outputs": [],
   "source": [
    "# df_label['label'].unique()"
   ]
  },
  {
   "cell_type": "code",
   "execution_count": null,
   "metadata": {
    "collapsed": true,
    "scrolled": true
   },
   "outputs": [],
   "source": [
    "np_label = np.array([lab_dic.get(i) for i in df_label['label'] ])"
   ]
  },
  {
   "cell_type": "code",
   "execution_count": null,
   "metadata": {
    "collapsed": false,
    "scrolled": true
   },
   "outputs": [],
   "source": [
    "np_label.shape"
   ]
  },
  {
   "cell_type": "code",
   "execution_count": null,
   "metadata": {
    "collapsed": false,
    "scrolled": true
   },
   "outputs": [],
   "source": [
    "import keras"
   ]
  },
  {
   "cell_type": "code",
   "execution_count": null,
   "metadata": {
    "collapsed": false,
    "scrolled": true
   },
   "outputs": [],
   "source": [
    "y_nplabel = keras.utils.to_categorical(np_label)"
   ]
  },
  {
   "cell_type": "code",
   "execution_count": null,
   "metadata": {
    "collapsed": false,
    "scrolled": true
   },
   "outputs": [],
   "source": [
    "num_classes = y_nplabel.shape[1]\n",
    "num_classes"
   ]
  },
  {
   "cell_type": "code",
   "execution_count": null,
   "metadata": {
    "collapsed": true,
    "scrolled": true
   },
   "outputs": [],
   "source": []
  },
  {
   "cell_type": "markdown",
   "metadata": {},
   "source": [
    "# Deploy CNN"
   ]
  },
  {
   "cell_type": "code",
   "execution_count": null,
   "metadata": {
    "collapsed": false,
    "scrolled": true
   },
   "outputs": [],
   "source": [
    "from keras.models import Sequential\n",
    "from keras.layers import Dense\n",
    "from keras.layers import Dropout\n",
    "from keras.layers import Flatten\n",
    "from keras.constraints import maxnorm\n",
    "from keras.optimizers import SGD\n",
    "from keras.layers.convolutional import Conv2D\n",
    "from keras.layers.convolutional import MaxPooling2D\n",
    "from keras.utils import np_utils\n",
    "from keras import backend as K\n",
    "K.set_image_dim_ordering('th')"
   ]
  },
  {
   "cell_type": "code",
   "execution_count": null,
   "metadata": {
    "collapsed": true
   },
   "outputs": [],
   "source": [
    "epochs = 50"
   ]
  },
  {
   "cell_type": "code",
   "execution_count": null,
   "metadata": {
    "collapsed": false,
    "scrolled": true
   },
   "outputs": [],
   "source": [
    "# # Create the model\n",
    "# model = Sequential()\n",
    "# model.add(Conv2D(32, (3, 3), input_shape=(3, 32, 32), padding='same', activation='relu', kernel_constraint=maxnorm(3)))\n",
    "# model.add(Dropout(0.2))\n",
    "# model.add(Conv2D(32, (3, 3), activation='relu', padding='same', kernel_constraint=maxnorm(3)))\n",
    "# model.add(MaxPooling2D(pool_size=(2, 2)))\n",
    "# model.add(Flatten())\n",
    "# model.add(Dense(512, activation='relu', kernel_constraint=maxnorm(3)))\n",
    "# model.add(Dropout(0.5))\n",
    "# model.add(Dense(num_classes, activation='softmax'))\n",
    "# # Compile model\n",
    "# epochs = 25\n",
    "# lrate = 0.01\n",
    "# decay = lrate/epochs\n",
    "# sgd = SGD(lr=lrate, momentum=0.9, decay=decay, nesterov=False)\n",
    "# model.compile(loss='categorical_crossentropy', optimizer=sgd, metrics=['accuracy'])\n",
    "# print(model.summary())"
   ]
  },
  {
   "cell_type": "code",
   "execution_count": null,
   "metadata": {
    "collapsed": false,
    "scrolled": true
   },
   "outputs": [],
   "source": [
    "def simplex_model():\n",
    "    model = Sequential()\n",
    "    # Convolutional Layer\n",
    "    model.add(Conv2D(32, (3,3), input_shape = (32,32,3), activation='relu'))\n",
    "\n",
    "    # Pooling Layer\n",
    "    model.add(MaxPooling2D(pool_size=(1, 1)))\n",
    "\n",
    "    # Fully conected Layer\n",
    "    model.add(Flatten())\n",
    "    model.add(Dense(num_classes, activation='softmax'))\n",
    "\n",
    "#     epochs = 20\n",
    "    lrate = 0.01\n",
    "    decay = lrate/epochs\n",
    "    sgd = SGD(lr=lrate, momentum=0.9, decay=decay, nesterov=False)\n",
    "\n",
    "    model.compile(loss='categorical_crossentropy', optimizer=sgd, metrics=['accuracy'])\n",
    "    print(model.summary())\n",
    "    \n",
    "    return model"
   ]
  },
  {
   "cell_type": "code",
   "execution_count": null,
   "metadata": {
    "collapsed": true
   },
   "outputs": [],
   "source": [
    "def simple_model():\n",
    "    model = Sequential()\n",
    "    # Convolutional Layer\n",
    "    model.add(Conv2D(32, (3,3), input_shape = (32,32,3), activation='relu'))\n",
    "\n",
    "    model.add(Dropout(0.2))\n",
    "    model.add(Conv2D(32, (3, 3), activation='relu', padding='same', kernel_constraint=maxnorm(3)))\n",
    "    model.add(MaxPooling2D(pool_size=(2, 1)))\n",
    "    model.add(Flatten())\n",
    "    model.add(Dense(512, activation='relu', kernel_constraint=maxnorm(3)))\n",
    "    model.add(Dropout(0.5))\n",
    "    model.add(Dense(num_classes, activation='softmax'))\n",
    "\n",
    "\n",
    "    \n",
    "    lrate = 0.01\n",
    "    decay = lrate/epochs\n",
    "    sgd = SGD(lr=lrate, momentum=0.9, decay=decay, nesterov=False)\n",
    "\n",
    "    model.compile(loss='categorical_crossentropy', optimizer=sgd, metrics=['accuracy'])\n",
    "    print(model.summary())\n",
    "    \n",
    "    return model\n"
   ]
  },
  {
   "cell_type": "code",
   "execution_count": null,
   "metadata": {
    "collapsed": false
   },
   "outputs": [],
   "source": [
    "model = simple_model()"
   ]
  },
  {
   "cell_type": "code",
   "execution_count": null,
   "metadata": {
    "collapsed": false,
    "scrolled": true
   },
   "outputs": [],
   "source": [
    "# Fit the model\n",
    "model.fit(np_train, y_nplabel, validation_split=0.3, epochs=epochs, batch_size=32)"
   ]
  },
  {
   "cell_type": "code",
   "execution_count": null,
   "metadata": {
    "collapsed": true,
    "scrolled": true
   },
   "outputs": [],
   "source": [
    "model.save('F:/cifar10/model/my_simple_model_50.h5')"
   ]
  },
  {
   "cell_type": "markdown",
   "metadata": {},
   "source": [
    "## Prediction"
   ]
  },
  {
   "cell_type": "code",
   "execution_count": 9,
   "metadata": {
    "collapsed": false,
    "scrolled": true
   },
   "outputs": [
    {
     "name": "stderr",
     "output_type": "stream",
     "text": [
      "Using TensorFlow backend.\n"
     ]
    }
   ],
   "source": [
    "## load save model\n",
    "from keras.models import load_model"
   ]
  },
  {
   "cell_type": "code",
   "execution_count": 10,
   "metadata": {
    "collapsed": false
   },
   "outputs": [],
   "source": [
    "my_model = load_model('F:/cifar10/model/my_simple_model_50.h5')"
   ]
  },
  {
   "cell_type": "code",
   "execution_count": 11,
   "metadata": {
    "collapsed": true
   },
   "outputs": [],
   "source": [
    "def get_batch_submission(model, start=0, end=300000, batch_size=1000):\n",
    "    # convert test data to ndarray\n",
    "    test_path = 'F:/cifar10/data/test/'\n",
    "\n",
    "    lst_prd = []\n",
    "    tmp_lst = []\n",
    "\n",
    "    for i in np.arange(start, end, batch_size):\n",
    "        if(i + batch_size > end):\n",
    "            if(i + batch_size < end):\n",
    "                pass\n",
    "            else:\n",
    "                tmp_lst.append(tuple((i, end)))\n",
    "        else:\n",
    "            tmp_lst.append(tuple((i, i + batch_size)))\n",
    "\n",
    "    for i, j in tmp_lst:\n",
    "        np_test = convert_images_to_array(test_path, start=i, end=j)\n",
    "        print('start: ', i, 'end: ', j)\n",
    "        print('batch size: ', np_test.shape)\n",
    "        # Normalize data\n",
    "        np_test = np_test.astype('float32')\n",
    "        np_test = np_test/255.0\n",
    "\n",
    "        np_prediction = model.predict_classes(np_test)\n",
    "\n",
    "        for j in np_prediction:\n",
    "            for i in lab_dic.items():\n",
    "                if(i[1] == j):\n",
    "                    lst_prd.append(i[0])\n",
    "    print('Batch Completed')\n",
    "\n",
    "    df_submission = pd.DataFrame()\n",
    "    df_submission['id'] = list(range(1,len(lst_prd)+1))\n",
    "    df_submission['label'] = lst_prd\n",
    "\n",
    "    return df_submission"
   ]
  },
  {
   "cell_type": "code",
   "execution_count": 12,
   "metadata": {
    "collapsed": false,
    "scrolled": true
   },
   "outputs": [
    {
     "name": "stdout",
     "output_type": "stream",
     "text": [
      "start:  0 end:  1000\n",
      "batch size:  (1000, 32, 32, 3)\n",
      " 960/1000 [===========================>..] - ETA: 0sstart:  1000 end:  2000\n",
      "batch size:  (1000, 32, 32, 3)\n",
      " 992/1000 [============================>.] - ETA: 0sstart:  2000 end:  3000\n",
      "batch size:  (1000, 32, 32, 3)\n",
      " 992/1000 [============================>.] - ETA: 0sstart:  3000 end:  4000\n",
      "batch size:  (1000, 32, 32, 3)\n",
      " 960/1000 [===========================>..] - ETA: 0sstart:  4000 end:  5000\n",
      "batch size:  (1000, 32, 32, 3)\n",
      " 928/1000 [==========================>...] - ETA: 0sstart:  5000 end:  6000\n",
      "batch size:  (1000, 32, 32, 3)\n",
      " 864/1000 [========================>.....] - ETA: 0sstart:  6000 end:  7000\n",
      "batch size:  (1000, 32, 32, 3)\n",
      " 896/1000 [=========================>....] - ETA: 0sstart:  7000 end:  8000\n",
      "batch size:  (1000, 32, 32, 3)\n",
      " 960/1000 [===========================>..] - ETA: 0sstart:  8000 end:  9000\n",
      "batch size:  (1000, 32, 32, 3)\n",
      " 992/1000 [============================>.] - ETA: 0sstart:  9000 end:  10000\n",
      "batch size:  (1000, 32, 32, 3)\n",
      " 864/1000 [========================>.....] - ETA: 0sstart:  10000 end:  11000\n",
      "batch size:  (1000, 32, 32, 3)\n",
      " 928/1000 [==========================>...] - ETA: 0sstart:  11000 end:  12000\n",
      "batch size:  (1000, 32, 32, 3)\n",
      " 992/1000 [============================>.] - ETA: 0sstart:  12000 end:  13000\n",
      "batch size:  (1000, 32, 32, 3)\n",
      " 864/1000 [========================>.....] - ETA: 0sstart:  13000 end:  14000\n",
      "batch size:  (1000, 32, 32, 3)\n",
      " 928/1000 [==========================>...] - ETA: 0sstart:  14000 end:  15000\n",
      "batch size:  (1000, 32, 32, 3)\n",
      " 992/1000 [============================>.] - ETA: 0sstart:  15000 end:  16000\n",
      "batch size:  (1000, 32, 32, 3)\n",
      " 896/1000 [=========================>....] - ETA: 0sstart:  16000 end:  17000\n",
      "batch size:  (1000, 32, 32, 3)\n",
      " 992/1000 [============================>.] - ETA: 0sstart:  17000 end:  18000\n",
      "batch size:  (1000, 32, 32, 3)\n",
      " 992/1000 [============================>.] - ETA: 0sstart:  18000 end:  19000\n",
      "batch size:  (1000, 32, 32, 3)\n",
      " 960/1000 [===========================>..] - ETA: 0sstart:  19000 end:  20000\n",
      "batch size:  (1000, 32, 32, 3)\n",
      "1000/1000 [==============================] - 0s     \n",
      "start:  20000 end:  21000\n",
      "batch size:  (1000, 32, 32, 3)\n",
      " 960/1000 [===========================>..] - ETA: 0sstart:  21000 end:  22000\n",
      "batch size:  (1000, 32, 32, 3)\n",
      " 960/1000 [===========================>..] - ETA: 0sstart:  22000 end:  23000\n",
      "batch size:  (1000, 32, 32, 3)\n",
      " 896/1000 [=========================>....] - ETA: 0sstart:  23000 end:  24000\n",
      "batch size:  (1000, 32, 32, 3)\n",
      " 960/1000 [===========================>..] - ETA: 0sstart:  24000 end:  25000\n",
      "batch size:  (1000, 32, 32, 3)\n",
      " 960/1000 [===========================>..] - ETA: 0sstart:  25000 end:  26000\n",
      "batch size:  (1000, 32, 32, 3)\n",
      " 928/1000 [==========================>...] - ETA: 0sstart:  26000 end:  27000\n",
      "batch size:  (1000, 32, 32, 3)\n",
      " 928/1000 [==========================>...] - ETA: 0sstart:  27000 end:  28000\n",
      "batch size:  (1000, 32, 32, 3)\n",
      " 992/1000 [============================>.] - ETA: 0sstart:  28000 end:  29000\n",
      "batch size:  (1000, 32, 32, 3)\n",
      " 960/1000 [===========================>..] - ETA: 0sstart:  29000 end:  30000\n",
      "batch size:  (1000, 32, 32, 3)\n",
      " 992/1000 [============================>.] - ETA: 0sstart:  30000 end:  31000\n",
      "batch size:  (1000, 32, 32, 3)\n",
      " 960/1000 [===========================>..] - ETA: 0sstart:  31000 end:  32000\n",
      "batch size:  (1000, 32, 32, 3)\n",
      " 992/1000 [============================>.] - ETA: 0sstart:  32000 end:  33000\n",
      "batch size:  (1000, 32, 32, 3)\n",
      " 960/1000 [===========================>..] - ETA: 0sstart:  33000 end:  34000\n",
      "batch size:  (1000, 32, 32, 3)\n",
      " 928/1000 [==========================>...] - ETA: 0sstart:  34000 end:  35000\n",
      "batch size:  (1000, 32, 32, 3)\n",
      " 928/1000 [==========================>...] - ETA: 0sstart:  35000 end:  36000\n",
      "batch size:  (1000, 32, 32, 3)\n",
      " 960/1000 [===========================>..] - ETA: 0sstart:  36000 end:  37000\n",
      "batch size:  (1000, 32, 32, 3)\n",
      " 960/1000 [===========================>..] - ETA: 0sstart:  37000 end:  38000\n",
      "batch size:  (1000, 32, 32, 3)\n",
      " 928/1000 [==========================>...] - ETA: 0sstart:  38000 end:  39000\n",
      "batch size:  (1000, 32, 32, 3)\n",
      " 992/1000 [============================>.] - ETA: 0sstart:  39000 end:  40000\n",
      "batch size:  (1000, 32, 32, 3)\n",
      " 992/1000 [============================>.] - ETA: 0sstart:  40000 end:  41000\n",
      "batch size:  (1000, 32, 32, 3)\n",
      " 960/1000 [===========================>..] - ETA: 0sstart:  41000 end:  42000\n",
      "batch size:  (1000, 32, 32, 3)\n",
      " 992/1000 [============================>.] - ETA: 0sstart:  42000 end:  43000\n",
      "batch size:  (1000, 32, 32, 3)\n",
      " 864/1000 [========================>.....] - ETA: 0sstart:  43000 end:  44000\n",
      "batch size:  (1000, 32, 32, 3)\n",
      " 928/1000 [==========================>...] - ETA: 0sstart:  44000 end:  45000\n",
      "batch size:  (1000, 32, 32, 3)\n",
      " 960/1000 [===========================>..] - ETA: 0sstart:  45000 end:  46000\n",
      "batch size:  (1000, 32, 32, 3)\n",
      " 928/1000 [==========================>...] - ETA: 0sstart:  46000 end:  47000\n",
      "batch size:  (1000, 32, 32, 3)\n",
      " 960/1000 [===========================>..] - ETA: 0sstart:  47000 end:  48000\n",
      "batch size:  (1000, 32, 32, 3)\n",
      " 928/1000 [==========================>...] - ETA: 0sstart:  48000 end:  49000\n",
      "batch size:  (1000, 32, 32, 3)\n",
      " 928/1000 [==========================>...] - ETA: 0sstart:  49000 end:  50000\n",
      "batch size:  (1000, 32, 32, 3)\n",
      " 960/1000 [===========================>..] - ETA: 0sstart:  50000 end:  51000\n",
      "batch size:  (1000, 32, 32, 3)\n",
      " 928/1000 [==========================>...] - ETA: 0sstart:  51000 end:  52000\n",
      "batch size:  (1000, 32, 32, 3)\n",
      " 960/1000 [===========================>..] - ETA: 0sstart:  52000 end:  53000\n",
      "batch size:  (1000, 32, 32, 3)\n",
      " 896/1000 [=========================>....] - ETA: 0sstart:  53000 end:  54000\n",
      "batch size:  (1000, 32, 32, 3)\n",
      " 960/1000 [===========================>..] - ETA: 0sstart:  54000 end:  55000\n",
      "batch size:  (1000, 32, 32, 3)\n",
      " 960/1000 [===========================>..] - ETA: 0sstart:  55000 end:  56000\n",
      "batch size:  (1000, 32, 32, 3)\n",
      " 960/1000 [===========================>..] - ETA: 0sstart:  56000 end:  57000\n",
      "batch size:  (1000, 32, 32, 3)\n",
      " 960/1000 [===========================>..] - ETA: 0sstart:  57000 end:  58000\n",
      "batch size:  (1000, 32, 32, 3)\n",
      " 960/1000 [===========================>..] - ETA: 0sstart:  58000 end:  59000\n",
      "batch size:  (1000, 32, 32, 3)\n",
      " 992/1000 [============================>.] - ETA: 0sstart:  59000 end:  60000\n",
      "batch size:  (1000, 32, 32, 3)\n",
      " 960/1000 [===========================>..] - ETA: 0sstart:  60000 end:  61000\n",
      "batch size:  (1000, 32, 32, 3)\n",
      " 896/1000 [=========================>....] - ETA: 0sstart:  61000 end:  62000\n",
      "batch size:  (1000, 32, 32, 3)\n",
      " 928/1000 [==========================>...] - ETA: 0sstart:  62000 end:  63000\n",
      "batch size:  (1000, 32, 32, 3)\n",
      " 896/1000 [=========================>....] - ETA: 0sstart:  63000 end:  64000\n",
      "batch size:  (1000, 32, 32, 3)\n",
      " 928/1000 [==========================>...] - ETA: 0sstart:  64000 end:  65000\n",
      "batch size:  (1000, 32, 32, 3)\n",
      " 960/1000 [===========================>..] - ETA: 0sstart:  65000 end:  66000\n",
      "batch size:  (1000, 32, 32, 3)\n",
      " 928/1000 [==========================>...] - ETA: 0sstart:  66000 end:  67000\n",
      "batch size:  (1000, 32, 32, 3)\n",
      "1000/1000 [==============================] - 0s     \n",
      "start:  67000 end:  68000\n",
      "batch size:  (1000, 32, 32, 3)\n",
      " 864/1000 [========================>.....] - ETA: 0sstart:  68000 end:  69000\n",
      "batch size:  (1000, 32, 32, 3)\n",
      " 960/1000 [===========================>..] - ETA: 0sstart:  69000 end:  70000\n",
      "batch size:  (1000, 32, 32, 3)\n",
      "1000/1000 [==============================] - 0s     \n",
      "start:  70000 end:  71000\n",
      "batch size:  (1000, 32, 32, 3)\n",
      " 928/1000 [==========================>...] - ETA: 0sstart:  71000 end:  72000\n",
      "batch size:  (1000, 32, 32, 3)\n",
      " 960/1000 [===========================>..] - ETA: 0sstart:  72000 end:  73000\n",
      "batch size:  (1000, 32, 32, 3)\n",
      " 992/1000 [============================>.] - ETA: 0sstart:  73000 end:  74000\n",
      "batch size:  (1000, 32, 32, 3)\n",
      " 896/1000 [=========================>....] - ETA: 0sstart:  74000 end:  75000\n",
      "batch size:  (1000, 32, 32, 3)\n",
      "1000/1000 [==============================] - 0s     \n",
      "start:  75000 end:  76000\n",
      "batch size:  (1000, 32, 32, 3)\n",
      " 960/1000 [===========================>..] - ETA: 0sstart:  76000 end:  77000\n",
      "batch size:  (1000, 32, 32, 3)\n",
      "1000/1000 [==============================] - 0s     \n",
      "start:  77000 end:  78000\n",
      "batch size:  (1000, 32, 32, 3)\n",
      " 896/1000 [=========================>....] - ETA: 0sstart:  78000 end:  79000\n",
      "batch size:  (1000, 32, 32, 3)\n",
      " 992/1000 [============================>.] - ETA: 0sstart:  79000 end:  80000\n",
      "batch size:  (1000, 32, 32, 3)\n",
      "1000/1000 [==============================] - 0s     \n",
      "start:  80000 end:  81000\n",
      "batch size:  (1000, 32, 32, 3)\n",
      " 960/1000 [===========================>..] - ETA: 0sstart:  81000 end:  82000\n",
      "batch size:  (1000, 32, 32, 3)\n",
      " 864/1000 [========================>.....] - ETA: 0sstart:  82000 end:  83000\n",
      "batch size:  (1000, 32, 32, 3)\n",
      " 896/1000 [=========================>....] - ETA: 0sstart:  83000 end:  84000\n",
      "batch size:  (1000, 32, 32, 3)\n",
      " 960/1000 [===========================>..] - ETA: 0sstart:  84000 end:  85000\n",
      "batch size:  (1000, 32, 32, 3)\n",
      " 928/1000 [==========================>...] - ETA: 0sstart:  85000 end:  86000\n",
      "batch size:  (1000, 32, 32, 3)\n",
      " 928/1000 [==========================>...] - ETA: 0sstart:  86000 end:  87000\n",
      "batch size:  (1000, 32, 32, 3)\n",
      " 992/1000 [============================>.] - ETA: 0sstart:  87000 end:  88000\n",
      "batch size:  (1000, 32, 32, 3)\n",
      "1000/1000 [==============================] - 0s     \n",
      "start:  88000 end:  89000\n",
      "batch size:  (1000, 32, 32, 3)\n",
      " 960/1000 [===========================>..] - ETA: 0sstart:  89000 end:  90000\n",
      "batch size:  (1000, 32, 32, 3)\n",
      " 960/1000 [===========================>..] - ETA: 0sstart:  90000 end:  91000\n",
      "batch size:  (1000, 32, 32, 3)\n",
      " 896/1000 [=========================>....] - ETA: 0sstart:  91000 end:  92000\n",
      "batch size:  (1000, 32, 32, 3)\n",
      " 896/1000 [=========================>....] - ETA: 0sstart:  92000 end:  93000\n",
      "batch size:  (1000, 32, 32, 3)\n",
      " 896/1000 [=========================>....] - ETA: 0sstart:  93000 end:  94000\n",
      "batch size:  (1000, 32, 32, 3)\n",
      " 928/1000 [==========================>...] - ETA: 0sstart:  94000 end:  95000\n",
      "batch size:  (1000, 32, 32, 3)\n",
      " 960/1000 [===========================>..] - ETA: 0sstart:  95000 end:  96000\n",
      "batch size:  (1000, 32, 32, 3)\n",
      " 960/1000 [===========================>..] - ETA: 0sstart:  96000 end:  97000\n",
      "batch size:  (1000, 32, 32, 3)\n",
      " 992/1000 [============================>.] - ETA: 0sstart:  97000 end:  98000\n",
      "batch size:  (1000, 32, 32, 3)\n",
      " 928/1000 [==========================>...] - ETA: 0sstart:  98000 end:  99000\n",
      "batch size:  (1000, 32, 32, 3)\n",
      " 896/1000 [=========================>....] - ETA: 0sstart:  99000 end:  100000\n",
      "batch size:  (1000, 32, 32, 3)\n",
      " 896/1000 [=========================>....] - ETA: 0sstart:  100000 end:  101000\n",
      "batch size:  (1000, 32, 32, 3)\n",
      " 928/1000 [==========================>...] - ETA: 0sstart:  101000 end:  102000\n",
      "batch size:  (1000, 32, 32, 3)\n",
      " 896/1000 [=========================>....] - ETA: 0sstart:  102000 end:  103000\n",
      "batch size:  (1000, 32, 32, 3)\n",
      " 928/1000 [==========================>...] - ETA: 0sstart:  103000 end:  104000\n",
      "batch size:  (1000, 32, 32, 3)\n",
      " 960/1000 [===========================>..] - ETA: 0sstart:  104000 end:  105000\n",
      "batch size:  (1000, 32, 32, 3)\n",
      "1000/1000 [==============================] - 0s     \n",
      "start:  105000 end:  106000\n",
      "batch size:  (1000, 32, 32, 3)\n",
      " 928/1000 [==========================>...] - ETA: 0sstart:  106000 end:  107000\n",
      "batch size:  (1000, 32, 32, 3)\n",
      " 896/1000 [=========================>....] - ETA: 0sstart:  107000 end:  108000\n",
      "batch size:  (1000, 32, 32, 3)\n",
      " 896/1000 [=========================>....] - ETA: 0sstart:  108000 end:  109000\n",
      "batch size:  (1000, 32, 32, 3)\n",
      " 960/1000 [===========================>..] - ETA: 0sstart:  109000 end:  110000\n",
      "batch size:  (1000, 32, 32, 3)\n",
      " 992/1000 [============================>.] - ETA: 0sstart:  110000 end:  111000\n",
      "batch size:  (1000, 32, 32, 3)\n",
      "1000/1000 [==============================] - 0s     \n",
      "start:  111000 end:  112000\n",
      "batch size:  (1000, 32, 32, 3)\n",
      " 960/1000 [===========================>..] - ETA: 0sstart:  112000 end:  113000\n",
      "batch size:  (1000, 32, 32, 3)\n",
      " 896/1000 [=========================>....] - ETA: 0sstart:  113000 end:  114000\n",
      "batch size:  (1000, 32, 32, 3)\n",
      " 896/1000 [=========================>....] - ETA: 0sstart:  114000 end:  115000\n",
      "batch size:  (1000, 32, 32, 3)\n",
      "1000/1000 [==============================] - 0s     \n",
      "start:  115000 end:  116000\n",
      "batch size:  (1000, 32, 32, 3)\n",
      " 896/1000 [=========================>....] - ETA: 0sstart:  116000 end:  117000\n",
      "batch size:  (1000, 32, 32, 3)\n",
      " 928/1000 [==========================>...] - ETA: 0sstart:  117000 end:  118000\n",
      "batch size:  (1000, 32, 32, 3)\n",
      " 928/1000 [==========================>...] - ETA: 0sstart:  118000 end:  119000\n",
      "batch size:  (1000, 32, 32, 3)\n",
      " 928/1000 [==========================>...] - ETA: 0sstart:  119000 end:  120000\n",
      "batch size:  (1000, 32, 32, 3)\n",
      " 896/1000 [=========================>....] - ETA: 0sstart:  120000 end:  121000\n",
      "batch size:  (1000, 32, 32, 3)\n",
      " 928/1000 [==========================>...] - ETA: 0sstart:  121000 end:  122000\n",
      "batch size:  (1000, 32, 32, 3)\n",
      " 896/1000 [=========================>....] - ETA: 0sstart:  122000 end:  123000\n",
      "batch size:  (1000, 32, 32, 3)\n",
      " 960/1000 [===========================>..] - ETA: 0sstart:  123000 end:  124000\n",
      "batch size:  (1000, 32, 32, 3)\n",
      " 896/1000 [=========================>....] - ETA: 0sstart:  124000 end:  125000\n",
      "batch size:  (1000, 32, 32, 3)\n",
      " 896/1000 [=========================>....] - ETA: 0sstart:  125000 end:  126000\n",
      "batch size:  (1000, 32, 32, 3)\n",
      " 928/1000 [==========================>...] - ETA: 0sstart:  126000 end:  127000\n",
      "batch size:  (1000, 32, 32, 3)\n",
      " 960/1000 [===========================>..] - ETA: 0sstart:  127000 end:  128000\n",
      "batch size:  (1000, 32, 32, 3)\n",
      " 960/1000 [===========================>..] - ETA: 0sstart:  128000 end:  129000\n",
      "batch size:  (1000, 32, 32, 3)\n",
      "1000/1000 [==============================] - 0s     \n",
      "start:  129000 end:  130000\n",
      "batch size:  (1000, 32, 32, 3)\n",
      "1000/1000 [==============================] - 0s     \n",
      "start:  130000 end:  131000\n",
      "batch size:  (1000, 32, 32, 3)\n",
      " 928/1000 [==========================>...] - ETA: 0sstart:  131000 end:  132000\n",
      "batch size:  (1000, 32, 32, 3)\n",
      " 928/1000 [==========================>...] - ETA: 0sstart:  132000 end:  133000\n",
      "batch size:  (1000, 32, 32, 3)\n",
      " 928/1000 [==========================>...] - ETA: 0sstart:  133000 end:  134000\n",
      "batch size:  (1000, 32, 32, 3)\n",
      " 928/1000 [==========================>...] - ETA: 0sstart:  134000 end:  135000\n",
      "batch size:  (1000, 32, 32, 3)\n",
      " 992/1000 [============================>.] - ETA: 0sstart:  135000 end:  136000\n",
      "batch size:  (1000, 32, 32, 3)\n",
      " 896/1000 [=========================>....] - ETA: 0sstart:  136000 end:  137000\n",
      "batch size:  (1000, 32, 32, 3)\n",
      " 960/1000 [===========================>..] - ETA: 0sstart:  137000 end:  138000\n",
      "batch size:  (1000, 32, 32, 3)\n",
      " 992/1000 [============================>.] - ETA: 0sstart:  138000 end:  139000\n",
      "batch size:  (1000, 32, 32, 3)\n",
      " 960/1000 [===========================>..] - ETA: 0sstart:  139000 end:  140000\n",
      "batch size:  (1000, 32, 32, 3)\n",
      " 960/1000 [===========================>..] - ETA: 0sstart:  140000 end:  141000\n",
      "batch size:  (1000, 32, 32, 3)\n",
      " 928/1000 [==========================>...] - ETA: 0sstart:  141000 end:  142000\n",
      "batch size:  (1000, 32, 32, 3)\n",
      " 992/1000 [============================>.] - ETA: 0sstart:  142000 end:  143000\n",
      "batch size:  (1000, 32, 32, 3)\n",
      " 960/1000 [===========================>..] - ETA: 0sstart:  143000 end:  144000\n",
      "batch size:  (1000, 32, 32, 3)\n",
      " 928/1000 [==========================>...] - ETA: 0sstart:  144000 end:  145000\n",
      "batch size:  (1000, 32, 32, 3)\n",
      " 896/1000 [=========================>....] - ETA: 0sstart:  145000 end:  146000\n",
      "batch size:  (1000, 32, 32, 3)\n",
      " 960/1000 [===========================>..] - ETA: 0sstart:  146000 end:  147000\n",
      "batch size:  (1000, 32, 32, 3)\n",
      " 992/1000 [============================>.] - ETA: 0sstart:  147000 end:  148000\n",
      "batch size:  (1000, 32, 32, 3)\n",
      " 928/1000 [==========================>...] - ETA: 0sstart:  148000 end:  149000\n",
      "batch size:  (1000, 32, 32, 3)\n",
      " 960/1000 [===========================>..] - ETA: 0sstart:  149000 end:  150000\n",
      "batch size:  (1000, 32, 32, 3)\n",
      " 992/1000 [============================>.] - ETA: 0sstart:  150000 end:  151000\n",
      "batch size:  (1000, 32, 32, 3)\n",
      " 960/1000 [===========================>..] - ETA: 0sstart:  151000 end:  152000\n",
      "batch size:  (1000, 32, 32, 3)\n",
      " 960/1000 [===========================>..] - ETA: 0sstart:  152000 end:  153000\n",
      "batch size:  (1000, 32, 32, 3)\n",
      " 992/1000 [============================>.] - ETA: 0sstart:  153000 end:  154000\n",
      "batch size:  (1000, 32, 32, 3)\n",
      " 960/1000 [===========================>..] - ETA: 0sstart:  154000 end:  155000\n",
      "batch size:  (1000, 32, 32, 3)\n",
      " 992/1000 [============================>.] - ETA: 0sstart:  155000 end:  156000\n",
      "batch size:  (1000, 32, 32, 3)\n",
      " 960/1000 [===========================>..] - ETA: 0sstart:  156000 end:  157000\n",
      "batch size:  (1000, 32, 32, 3)\n",
      " 928/1000 [==========================>...] - ETA: 0sstart:  157000 end:  158000\n",
      "batch size:  (1000, 32, 32, 3)\n",
      " 992/1000 [============================>.] - ETA: 0sstart:  158000 end:  159000\n",
      "batch size:  (1000, 32, 32, 3)\n",
      " 896/1000 [=========================>....] - ETA: 0sstart:  159000 end:  160000\n",
      "batch size:  (1000, 32, 32, 3)\n",
      " 992/1000 [============================>.] - ETA: 0sstart:  160000 end:  161000\n",
      "batch size:  (1000, 32, 32, 3)\n",
      " 928/1000 [==========================>...] - ETA: 0sstart:  161000 end:  162000\n",
      "batch size:  (1000, 32, 32, 3)\n",
      " 960/1000 [===========================>..] - ETA: 0sstart:  162000 end:  163000\n",
      "batch size:  (1000, 32, 32, 3)\n",
      "1000/1000 [==============================] - 0s     \n",
      "start:  163000 end:  164000\n",
      "batch size:  (1000, 32, 32, 3)\n",
      " 960/1000 [===========================>..] - ETA: 0sstart:  164000 end:  165000\n",
      "batch size:  (1000, 32, 32, 3)\n",
      " 992/1000 [============================>.] - ETA: 0sstart:  165000 end:  166000\n",
      "batch size:  (1000, 32, 32, 3)\n",
      " 992/1000 [============================>.] - ETA: 0sstart:  166000 end:  167000\n",
      "batch size:  (1000, 32, 32, 3)\n",
      " 992/1000 [============================>.] - ETA: 0sstart:  167000 end:  168000\n",
      "batch size:  (1000, 32, 32, 3)\n",
      " 928/1000 [==========================>...] - ETA: 0sstart:  168000 end:  169000\n",
      "batch size:  (1000, 32, 32, 3)\n",
      " 992/1000 [============================>.] - ETA: 0sstart:  169000 end:  170000\n",
      "batch size:  (1000, 32, 32, 3)\n",
      " 960/1000 [===========================>..] - ETA: 0sstart:  170000 end:  171000\n",
      "batch size:  (1000, 32, 32, 3)\n",
      "1000/1000 [==============================] - 0s     \n",
      "start:  171000 end:  172000\n",
      "batch size:  (1000, 32, 32, 3)\n",
      " 960/1000 [===========================>..] - ETA: 0sstart:  172000 end:  173000\n",
      "batch size:  (1000, 32, 32, 3)\n",
      " 992/1000 [============================>.] - ETA: 0sstart:  173000 end:  174000\n",
      "batch size:  (1000, 32, 32, 3)\n",
      " 960/1000 [===========================>..] - ETA: 0sstart:  174000 end:  175000\n",
      "batch size:  (1000, 32, 32, 3)\n",
      " 928/1000 [==========================>...] - ETA: 0sstart:  175000 end:  176000\n",
      "batch size:  (1000, 32, 32, 3)\n",
      " 992/1000 [============================>.] - ETA: 0sstart:  176000 end:  177000\n",
      "batch size:  (1000, 32, 32, 3)\n",
      " 960/1000 [===========================>..] - ETA: 0sstart:  177000 end:  178000\n",
      "batch size:  (1000, 32, 32, 3)\n",
      " 960/1000 [===========================>..] - ETA: 0sstart:  178000 end:  179000\n",
      "batch size:  (1000, 32, 32, 3)\n",
      " 992/1000 [============================>.] - ETA: 0sstart:  179000 end:  180000\n",
      "batch size:  (1000, 32, 32, 3)\n",
      " 992/1000 [============================>.] - ETA: 0sstart:  180000 end:  181000\n",
      "batch size:  (1000, 32, 32, 3)\n",
      " 992/1000 [============================>.] - ETA: 0sstart:  181000 end:  182000\n",
      "batch size:  (1000, 32, 32, 3)\n",
      " 928/1000 [==========================>...] - ETA: 0sstart:  182000 end:  183000\n",
      "batch size:  (1000, 32, 32, 3)\n",
      " 928/1000 [==========================>...] - ETA: 0sstart:  183000 end:  184000\n",
      "batch size:  (1000, 32, 32, 3)\n",
      "1000/1000 [==============================] - 0s     \n",
      "start:  184000 end:  185000\n",
      "batch size:  (1000, 32, 32, 3)\n",
      " 896/1000 [=========================>....] - ETA: 0sstart:  185000 end:  186000\n",
      "batch size:  (1000, 32, 32, 3)\n",
      " 992/1000 [============================>.] - ETA: 0sstart:  186000 end:  187000\n",
      "batch size:  (1000, 32, 32, 3)\n",
      " 992/1000 [============================>.] - ETA: 0sstart:  187000 end:  188000\n",
      "batch size:  (1000, 32, 32, 3)\n",
      " 992/1000 [============================>.] - ETA: 0sstart:  188000 end:  189000\n",
      "batch size:  (1000, 32, 32, 3)\n",
      " 960/1000 [===========================>..] - ETA: 0sstart:  189000 end:  190000\n",
      "batch size:  (1000, 32, 32, 3)\n",
      " 928/1000 [==========================>...] - ETA: 0sstart:  190000 end:  191000\n",
      "batch size:  (1000, 32, 32, 3)\n",
      " 928/1000 [==========================>...] - ETA: 0sstart:  191000 end:  192000\n",
      "batch size:  (1000, 32, 32, 3)\n",
      " 992/1000 [============================>.] - ETA: 0sstart:  192000 end:  193000\n",
      "batch size:  (1000, 32, 32, 3)\n",
      " 960/1000 [===========================>..] - ETA: 0sstart:  193000 end:  194000\n",
      "batch size:  (1000, 32, 32, 3)\n",
      " 960/1000 [===========================>..] - ETA: 0sstart:  194000 end:  195000\n",
      "batch size:  (1000, 32, 32, 3)\n",
      " 992/1000 [============================>.] - ETA: 0sstart:  195000 end:  196000\n",
      "batch size:  (1000, 32, 32, 3)\n",
      " 992/1000 [============================>.] - ETA: 0sstart:  196000 end:  197000\n",
      "batch size:  (1000, 32, 32, 3)\n",
      " 960/1000 [===========================>..] - ETA: 0sstart:  197000 end:  198000\n",
      "batch size:  (1000, 32, 32, 3)\n",
      " 960/1000 [===========================>..] - ETA: 0sstart:  198000 end:  199000\n",
      "batch size:  (1000, 32, 32, 3)\n",
      " 928/1000 [==========================>...] - ETA: 0sstart:  199000 end:  200000\n",
      "batch size:  (1000, 32, 32, 3)\n",
      " 928/1000 [==========================>...] - ETA: 0sstart:  200000 end:  201000\n",
      "batch size:  (1000, 32, 32, 3)\n",
      " 928/1000 [==========================>...] - ETA: 0sstart:  201000 end:  202000\n",
      "batch size:  (1000, 32, 32, 3)\n",
      " 960/1000 [===========================>..] - ETA: 0sstart:  202000 end:  203000\n",
      "batch size:  (1000, 32, 32, 3)\n",
      " 992/1000 [============================>.] - ETA: 0sstart:  203000 end:  204000\n",
      "batch size:  (1000, 32, 32, 3)\n",
      " 992/1000 [============================>.] - ETA: 0sstart:  204000 end:  205000\n",
      "batch size:  (1000, 32, 32, 3)\n",
      " 896/1000 [=========================>....] - ETA: 0sstart:  205000 end:  206000\n",
      "batch size:  (1000, 32, 32, 3)\n",
      " 928/1000 [==========================>...] - ETA: 0sstart:  206000 end:  207000\n",
      "batch size:  (1000, 32, 32, 3)\n",
      " 960/1000 [===========================>..] - ETA: 0sstart:  207000 end:  208000\n",
      "batch size:  (1000, 32, 32, 3)\n",
      " 960/1000 [===========================>..] - ETA: 0sstart:  208000 end:  209000\n",
      "batch size:  (1000, 32, 32, 3)\n",
      " 960/1000 [===========================>..] - ETA: 0sstart:  209000 end:  210000\n",
      "batch size:  (1000, 32, 32, 3)\n",
      " 960/1000 [===========================>..] - ETA: 0sstart:  210000 end:  211000\n",
      "batch size:  (1000, 32, 32, 3)\n",
      " 992/1000 [============================>.] - ETA: 0sstart:  211000 end:  212000\n",
      "batch size:  (1000, 32, 32, 3)\n",
      " 960/1000 [===========================>..] - ETA: 0sstart:  212000 end:  213000\n",
      "batch size:  (1000, 32, 32, 3)\n",
      " 992/1000 [============================>.] - ETA: 0sstart:  213000 end:  214000\n",
      "batch size:  (1000, 32, 32, 3)\n",
      " 928/1000 [==========================>...] - ETA: 0sstart:  214000 end:  215000\n",
      "batch size:  (1000, 32, 32, 3)\n",
      " 960/1000 [===========================>..] - ETA: 0sstart:  215000 end:  216000\n",
      "batch size:  (1000, 32, 32, 3)\n",
      " 864/1000 [========================>.....] - ETA: 0sstart:  216000 end:  217000\n",
      "batch size:  (1000, 32, 32, 3)\n",
      " 992/1000 [============================>.] - ETA: 0sstart:  217000 end:  218000\n",
      "batch size:  (1000, 32, 32, 3)\n",
      " 896/1000 [=========================>....] - ETA: 0sstart:  218000 end:  219000\n",
      "batch size:  (1000, 32, 32, 3)\n",
      " 992/1000 [============================>.] - ETA: 0sstart:  219000 end:  220000\n",
      "batch size:  (1000, 32, 32, 3)\n",
      " 992/1000 [============================>.] - ETA: 0sstart:  220000 end:  221000\n",
      "batch size:  (1000, 32, 32, 3)\n",
      " 960/1000 [===========================>..] - ETA: 0sstart:  221000 end:  222000\n",
      "batch size:  (1000, 32, 32, 3)\n",
      " 896/1000 [=========================>....] - ETA: 0sstart:  222000 end:  223000\n",
      "batch size:  (1000, 32, 32, 3)\n",
      " 960/1000 [===========================>..] - ETA: 0sstart:  223000 end:  224000\n",
      "batch size:  (1000, 32, 32, 3)\n",
      " 992/1000 [============================>.] - ETA: 0sstart:  224000 end:  225000\n",
      "batch size:  (1000, 32, 32, 3)\n",
      "1000/1000 [==============================] - 0s     \n",
      "start:  225000 end:  226000\n",
      "batch size:  (1000, 32, 32, 3)\n",
      " 960/1000 [===========================>..] - ETA: 0sstart:  226000 end:  227000\n",
      "batch size:  (1000, 32, 32, 3)\n",
      " 960/1000 [===========================>..] - ETA: 0sstart:  227000 end:  228000\n",
      "batch size:  (1000, 32, 32, 3)\n",
      " 960/1000 [===========================>..] - ETA: 0sstart:  228000 end:  229000\n",
      "batch size:  (1000, 32, 32, 3)\n",
      " 960/1000 [===========================>..] - ETA: 0sstart:  229000 end:  230000\n",
      "batch size:  (1000, 32, 32, 3)\n",
      "1000/1000 [==============================] - 0s     \n",
      "start:  230000 end:  231000\n",
      "batch size:  (1000, 32, 32, 3)\n",
      " 896/1000 [=========================>....] - ETA: 0sstart:  231000 end:  232000\n",
      "batch size:  (1000, 32, 32, 3)\n",
      " 960/1000 [===========================>..] - ETA: 0sstart:  232000 end:  233000\n",
      "batch size:  (1000, 32, 32, 3)\n",
      " 960/1000 [===========================>..] - ETA: 0sstart:  233000 end:  234000\n",
      "batch size:  (1000, 32, 32, 3)\n",
      " 960/1000 [===========================>..] - ETA: 0sstart:  234000 end:  235000\n",
      "batch size:  (1000, 32, 32, 3)\n",
      " 960/1000 [===========================>..] - ETA: 0sstart:  235000 end:  236000\n",
      "batch size:  (1000, 32, 32, 3)\n",
      " 928/1000 [==========================>...] - ETA: 0sstart:  236000 end:  237000\n",
      "batch size:  (1000, 32, 32, 3)\n",
      " 928/1000 [==========================>...] - ETA: 0sstart:  237000 end:  238000\n",
      "batch size:  (1000, 32, 32, 3)\n",
      " 960/1000 [===========================>..] - ETA: 0sstart:  238000 end:  239000\n",
      "batch size:  (1000, 32, 32, 3)\n",
      " 960/1000 [===========================>..] - ETA: 0sstart:  239000 end:  240000\n",
      "batch size:  (1000, 32, 32, 3)\n",
      " 960/1000 [===========================>..] - ETA: 0sstart:  240000 end:  241000\n",
      "batch size:  (1000, 32, 32, 3)\n",
      " 960/1000 [===========================>..] - ETA: 0sstart:  241000 end:  242000\n",
      "batch size:  (1000, 32, 32, 3)\n",
      " 928/1000 [==========================>...] - ETA: 0sstart:  242000 end:  243000\n",
      "batch size:  (1000, 32, 32, 3)\n",
      " 864/1000 [========================>.....] - ETA: 0sstart:  243000 end:  244000\n",
      "batch size:  (1000, 32, 32, 3)\n",
      " 960/1000 [===========================>..] - ETA: 0sstart:  244000 end:  245000\n",
      "batch size:  (1000, 32, 32, 3)\n",
      " 896/1000 [=========================>....] - ETA: 0sstart:  245000 end:  246000\n",
      "batch size:  (1000, 32, 32, 3)\n",
      " 960/1000 [===========================>..] - ETA: 0sstart:  246000 end:  247000\n",
      "batch size:  (1000, 32, 32, 3)\n",
      " 960/1000 [===========================>..] - ETA: 0sstart:  247000 end:  248000\n",
      "batch size:  (1000, 32, 32, 3)\n",
      " 960/1000 [===========================>..] - ETA: 0sstart:  248000 end:  249000\n",
      "batch size:  (1000, 32, 32, 3)\n",
      " 960/1000 [===========================>..] - ETA: 0sstart:  249000 end:  250000\n",
      "batch size:  (1000, 32, 32, 3)\n",
      " 960/1000 [===========================>..] - ETA: 0sstart:  250000 end:  251000\n",
      "batch size:  (1000, 32, 32, 3)\n",
      " 960/1000 [===========================>..] - ETA: 0sstart:  251000 end:  252000\n",
      "batch size:  (1000, 32, 32, 3)\n",
      " 960/1000 [===========================>..] - ETA: 0sstart:  252000 end:  253000\n",
      "batch size:  (1000, 32, 32, 3)\n",
      " 960/1000 [===========================>..] - ETA: 0sstart:  253000 end:  254000\n",
      "batch size:  (1000, 32, 32, 3)\n",
      " 992/1000 [============================>.] - ETA: 0sstart:  254000 end:  255000\n",
      "batch size:  (1000, 32, 32, 3)\n",
      " 960/1000 [===========================>..] - ETA: 0sstart:  255000 end:  256000\n",
      "batch size:  (1000, 32, 32, 3)\n",
      " 960/1000 [===========================>..] - ETA: 0sstart:  256000 end:  257000\n",
      "batch size:  (1000, 32, 32, 3)\n",
      " 960/1000 [===========================>..] - ETA: 0sstart:  257000 end:  258000\n",
      "batch size:  (1000, 32, 32, 3)\n",
      " 928/1000 [==========================>...] - ETA: 0sstart:  258000 end:  259000\n",
      "batch size:  (1000, 32, 32, 3)\n",
      " 960/1000 [===========================>..] - ETA: 0sstart:  259000 end:  260000\n",
      "batch size:  (1000, 32, 32, 3)\n",
      " 960/1000 [===========================>..] - ETA: 0sstart:  260000 end:  261000\n",
      "batch size:  (1000, 32, 32, 3)\n",
      " 896/1000 [=========================>....] - ETA: 0sstart:  261000 end:  262000\n",
      "batch size:  (1000, 32, 32, 3)\n",
      " 864/1000 [========================>.....] - ETA: 0sstart:  262000 end:  263000\n",
      "batch size:  (1000, 32, 32, 3)\n",
      " 960/1000 [===========================>..] - ETA: 0sstart:  263000 end:  264000\n",
      "batch size:  (1000, 32, 32, 3)\n",
      " 960/1000 [===========================>..] - ETA: 0sstart:  264000 end:  265000\n",
      "batch size:  (1000, 32, 32, 3)\n",
      " 960/1000 [===========================>..] - ETA: 0sstart:  265000 end:  266000\n",
      "batch size:  (1000, 32, 32, 3)\n",
      "1000/1000 [==============================] - 0s     \n",
      "start:  266000 end:  267000\n",
      "batch size:  (1000, 32, 32, 3)\n",
      " 960/1000 [===========================>..] - ETA: 0sstart:  267000 end:  268000\n",
      "batch size:  (1000, 32, 32, 3)\n",
      " 960/1000 [===========================>..] - ETA: 0sstart:  268000 end:  269000\n",
      "batch size:  (1000, 32, 32, 3)\n",
      " 896/1000 [=========================>....] - ETA: 0sstart:  269000 end:  270000\n",
      "batch size:  (1000, 32, 32, 3)\n",
      " 960/1000 [===========================>..] - ETA: 0sstart:  270000 end:  271000\n",
      "batch size:  (1000, 32, 32, 3)\n",
      " 928/1000 [==========================>...] - ETA: 0sstart:  271000 end:  272000\n",
      "batch size:  (1000, 32, 32, 3)\n",
      " 960/1000 [===========================>..] - ETA: 0sstart:  272000 end:  273000\n",
      "batch size:  (1000, 32, 32, 3)\n",
      " 960/1000 [===========================>..] - ETA: 0sstart:  273000 end:  274000\n",
      "batch size:  (1000, 32, 32, 3)\n",
      " 960/1000 [===========================>..] - ETA: 0sstart:  274000 end:  275000\n",
      "batch size:  (1000, 32, 32, 3)\n",
      " 864/1000 [========================>.....] - ETA: 0sstart:  275000 end:  276000\n",
      "batch size:  (1000, 32, 32, 3)\n",
      " 960/1000 [===========================>..] - ETA: 0sstart:  276000 end:  277000\n",
      "batch size:  (1000, 32, 32, 3)\n",
      " 928/1000 [==========================>...] - ETA: 0sstart:  277000 end:  278000\n",
      "batch size:  (1000, 32, 32, 3)\n",
      " 960/1000 [===========================>..] - ETA: 0sstart:  278000 end:  279000\n",
      "batch size:  (1000, 32, 32, 3)\n",
      "1000/1000 [==============================] - 0s     \n",
      "start:  279000 end:  280000\n",
      "batch size:  (1000, 32, 32, 3)\n",
      " 960/1000 [===========================>..] - ETA: 0sstart:  280000 end:  281000\n",
      "batch size:  (1000, 32, 32, 3)\n",
      " 928/1000 [==========================>...] - ETA: 0sstart:  281000 end:  282000\n",
      "batch size:  (1000, 32, 32, 3)\n",
      " 960/1000 [===========================>..] - ETA: 0sstart:  282000 end:  283000\n",
      "batch size:  (1000, 32, 32, 3)\n",
      " 928/1000 [==========================>...] - ETA: 0sstart:  283000 end:  284000\n",
      "batch size:  (1000, 32, 32, 3)\n",
      " 960/1000 [===========================>..] - ETA: 0sstart:  284000 end:  285000\n",
      "batch size:  (1000, 32, 32, 3)\n",
      " 928/1000 [==========================>...] - ETA: 0sstart:  285000 end:  286000\n",
      "batch size:  (1000, 32, 32, 3)\n",
      " 896/1000 [=========================>....] - ETA: 0sstart:  286000 end:  287000\n",
      "batch size:  (1000, 32, 32, 3)\n",
      " 928/1000 [==========================>...] - ETA: 0sstart:  287000 end:  288000\n",
      "batch size:  (1000, 32, 32, 3)\n",
      " 896/1000 [=========================>....] - ETA: 0sstart:  288000 end:  289000\n",
      "batch size:  (1000, 32, 32, 3)\n",
      " 992/1000 [============================>.] - ETA: 0sstart:  289000 end:  290000\n",
      "batch size:  (1000, 32, 32, 3)\n",
      " 864/1000 [========================>.....] - ETA: 0sstart:  290000 end:  291000\n",
      "batch size:  (1000, 32, 32, 3)\n",
      " 896/1000 [=========================>....] - ETA: 0sstart:  291000 end:  292000\n",
      "batch size:  (1000, 32, 32, 3)\n",
      " 960/1000 [===========================>..] - ETA: 0sstart:  292000 end:  293000\n",
      "batch size:  (1000, 32, 32, 3)\n",
      " 992/1000 [============================>.] - ETA: 0sstart:  293000 end:  294000\n",
      "batch size:  (1000, 32, 32, 3)\n",
      " 992/1000 [============================>.] - ETA: 0sstart:  294000 end:  295000\n",
      "batch size:  (1000, 32, 32, 3)\n",
      " 960/1000 [===========================>..] - ETA: 0sstart:  295000 end:  296000\n",
      "batch size:  (1000, 32, 32, 3)\n",
      " 896/1000 [=========================>....] - ETA: 0sstart:  296000 end:  297000\n",
      "batch size:  (1000, 32, 32, 3)\n",
      " 960/1000 [===========================>..] - ETA: 0sstart:  297000 end:  298000\n",
      "batch size:  (1000, 32, 32, 3)\n",
      " 864/1000 [========================>.....] - ETA: 0sstart:  298000 end:  299000\n",
      "batch size:  (1000, 32, 32, 3)\n",
      " 928/1000 [==========================>...] - ETA: 0sstart:  299000 end:  300000\n",
      "batch size:  (1000, 32, 32, 3)\n",
      " 960/1000 [===========================>..] - ETA: 0sBatch Completed\n"
     ]
    }
   ],
   "source": [
    "df_submission = get_batch_submission(my_model, batch_size= 1000)"
   ]
  },
  {
   "cell_type": "code",
   "execution_count": 13,
   "metadata": {
    "collapsed": false,
    "scrolled": true
   },
   "outputs": [],
   "source": [
    "df_submission.to_csv('F:/cifar10/data/submission.csv', index=False)"
   ]
  },
  {
   "cell_type": "code",
   "execution_count": null,
   "metadata": {
    "collapsed": false
   },
   "outputs": [],
   "source": [
    "def get_submission(model, data):\n",
    "    np_prediction = model.predict_classes(data)\n",
    "\n",
    "    lst_prd = []\n",
    "    for j in np_prediction:\n",
    "        for i in lab_dic.items():\n",
    "            if(i[1] == j):\n",
    "                lst_prd.append(i[0])\n",
    "    #             print(i)\n",
    "    #             print(i[1])\n",
    "    #             print(i[0])\n",
    "    lst_prd\n",
    "\n",
    "\n",
    "    df_submission = pd.DataFrame()\n",
    "    df_submission['id'] = list(range(1,len(np_prediction)+1))\n",
    "    df_submission['label'] = lst_prd\n",
    "\n",
    "    return df_submission"
   ]
  },
  {
   "cell_type": "code",
   "execution_count": null,
   "metadata": {
    "collapsed": false,
    "scrolled": true
   },
   "outputs": [],
   "source": [
    "# df_submission = get_submission(my_model,np_test)"
   ]
  },
  {
   "cell_type": "markdown",
   "metadata": {},
   "source": [
    "### Visualize the data"
   ]
  },
  {
   "cell_type": "code",
   "execution_count": null,
   "metadata": {
    "collapsed": true,
    "scrolled": true
   },
   "outputs": [],
   "source": [
    "from matplotlib import pyplot\n",
    "from scipy.misc import toimage"
   ]
  },
  {
   "cell_type": "code",
   "execution_count": null,
   "metadata": {
    "collapsed": false,
    "scrolled": true
   },
   "outputs": [],
   "source": [
    "pyplot.imshow(toimage(X_train[3]))\n",
    "pyplot.show()"
   ]
  },
  {
   "cell_type": "code",
   "execution_count": null,
   "metadata": {
    "collapsed": false
   },
   "outputs": [],
   "source": [
    "\n",
    "# start = 0\n",
    "# end = 17\n",
    "# batch_size=3\n",
    "\n",
    "# # convert test data to ndarray\n",
    "# test_path = 'F:/cifar10/data/test/'\n",
    "# # np_test = convert_images_to_array(test_path, 300000)\n",
    "\n",
    "# lst_prd = []\n",
    "# tmp_lst = []\n",
    "\n",
    "# # for i in xrange(0, len(worklist), batch_size):\n",
    "# for i in np.arange(start, end, batch_size):\n",
    "#     if(i + batch_size > end):\n",
    "#         if(i + batch_size < end):\n",
    "#             pass\n",
    "#         else:\n",
    "# #             print(i, end)\n",
    "#             tmp_lst.append(tuple((i, end)))\n",
    "#     else:\n",
    "# #         print(i, i + batch_size)\n",
    "#         tmp_lst.append(tuple((i, i + batch_size)))\n",
    "\n",
    "# for i, j in tmp_lst:\n",
    "#     np_test = convert_images_to_array(test_path, start=i, end=j)\n",
    "   \n",
    "#     # Normalize data\n",
    "#     np_test = np_test.astype('float32')\n",
    "#     np_test = np_test/255.0\n",
    "    \n",
    "#     print('test data shape', np_test.shape)\n",
    "    \n",
    "#     np_prediction = model.predict_classes(np_test)\n",
    "\n",
    "    \n",
    "#     for j in np_prediction:\n",
    "#         for i in lab_dic.items():\n",
    "#             if(i[1] == j):\n",
    "#                 lst_prd.append(i[0])\n",
    "#     #             print(i)\n",
    "#     #             print(i[1])\n",
    "#     #             print(i[0])\n",
    "#     lst_prd\n",
    "    \n",
    "# print(lst_prd)\n",
    "# df_submission = pd.DataFrame()\n",
    "# df_submission['id'] = list(range(1,len(np_prediction)+1))\n",
    "# df_submission['label'] = lst_prd\n",
    "\n",
    "# df_submission\n",
    "\n",
    "#     #     print(i)\n",
    "#     #     print(j)"
   ]
  }
 ],
 "metadata": {
  "anaconda-cloud": {},
  "kernelspec": {
   "display_name": "Python [conda root]",
   "language": "python",
   "name": "conda-root-py"
  },
  "language_info": {
   "codemirror_mode": {
    "name": "ipython",
    "version": 3
   },
   "file_extension": ".py",
   "mimetype": "text/x-python",
   "name": "python",
   "nbconvert_exporter": "python",
   "pygments_lexer": "ipython3",
   "version": "3.5.2"
  }
 },
 "nbformat": 4,
 "nbformat_minor": 1
}
