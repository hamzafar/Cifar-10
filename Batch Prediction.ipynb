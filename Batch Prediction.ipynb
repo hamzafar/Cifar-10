{
 "cells": [
  {
   "cell_type": "markdown",
   "metadata": {},
   "source": [
    "# Data Preperation"
   ]
  },
  {
   "cell_type": "code",
   "execution_count": 2,
   "metadata": {
    "collapsed": true,
    "scrolled": true
   },
   "outputs": [],
   "source": [
    "from scipy import ndimage\n",
    "import numpy as np\n",
    "np.random.seed(123)"
   ]
  },
  {
   "cell_type": "code",
   "execution_count": 23,
   "metadata": {
    "collapsed": true,
    "scrolled": true
   },
   "outputs": [],
   "source": [
    "import pandas as pd"
   ]
  },
  {
   "cell_type": "code",
   "execution_count": 24,
   "metadata": {
    "collapsed": true,
    "scrolled": true
   },
   "outputs": [],
   "source": [
    "# tmp_array = ndimage.imread('F:/cifar10/data/train/2.png')\n",
    "\n",
    "# tmp_array.shape"
   ]
  },
  {
   "cell_type": "code",
   "execution_count": 25,
   "metadata": {
    "collapsed": false,
    "scrolled": true
   },
   "outputs": [],
   "source": [
    "def convert_images_to_array(path, end, start = 0):\n",
    "    lst_train = []\n",
    "#     train_path = 'F:/cifar10/data/train/'\n",
    "    for i in range(start, end):\n",
    "        val = (str(i+1))\n",
    "    #     print(train_path + val+'.png')\n",
    "        lst_train.append(ndimage.imread(path + val+'.png'))\n",
    "\n",
    "    #Convert list to nd array    \n",
    "    return(np.array(lst_train))"
   ]
  },
  {
   "cell_type": "code",
   "execution_count": 26,
   "metadata": {
    "collapsed": false,
    "scrolled": true
   },
   "outputs": [],
   "source": [
    "# convert train data to ndarray\n",
    "train_path = 'F:/cifar10/data/train/'\n",
    "np_train = convert_images_to_array(train_path, 50000)"
   ]
  },
  {
   "cell_type": "code",
   "execution_count": 27,
   "metadata": {
    "collapsed": false,
    "scrolled": true
   },
   "outputs": [
    {
     "name": "stdout",
     "output_type": "stream",
     "text": [
      "(50000, 32, 32, 3)\n"
     ]
    }
   ],
   "source": [
    "print(np_train.shape)"
   ]
  },
  {
   "cell_type": "code",
   "execution_count": 7,
   "metadata": {
    "collapsed": true,
    "scrolled": true
   },
   "outputs": [],
   "source": [
    "# Normalize data\n",
    "np_train = np_train.astype('float32')\n",
    "np_train = np_train/255.0"
   ]
  },
  {
   "cell_type": "markdown",
   "metadata": {},
   "source": [
    "## creating labels"
   ]
  },
  {
   "cell_type": "code",
   "execution_count": 8,
   "metadata": {
    "collapsed": true,
    "scrolled": true
   },
   "outputs": [],
   "source": [
    "df_label = pd.read_csv('F:/cifar10/data/trainLabels.csv')"
   ]
  },
  {
   "cell_type": "code",
   "execution_count": 9,
   "metadata": {
    "collapsed": false,
    "scrolled": true
   },
   "outputs": [
    {
     "data": {
      "text/html": [
       "<div>\n",
       "<table border=\"1\" class=\"dataframe\">\n",
       "  <thead>\n",
       "    <tr style=\"text-align: right;\">\n",
       "      <th></th>\n",
       "      <th>id</th>\n",
       "      <th>label</th>\n",
       "    </tr>\n",
       "  </thead>\n",
       "  <tbody>\n",
       "    <tr>\n",
       "      <th>0</th>\n",
       "      <td>1</td>\n",
       "      <td>frog</td>\n",
       "    </tr>\n",
       "    <tr>\n",
       "      <th>1</th>\n",
       "      <td>2</td>\n",
       "      <td>truck</td>\n",
       "    </tr>\n",
       "    <tr>\n",
       "      <th>2</th>\n",
       "      <td>3</td>\n",
       "      <td>truck</td>\n",
       "    </tr>\n",
       "    <tr>\n",
       "      <th>3</th>\n",
       "      <td>4</td>\n",
       "      <td>deer</td>\n",
       "    </tr>\n",
       "    <tr>\n",
       "      <th>4</th>\n",
       "      <td>5</td>\n",
       "      <td>automobile</td>\n",
       "    </tr>\n",
       "  </tbody>\n",
       "</table>\n",
       "</div>"
      ],
      "text/plain": [
       "   id       label\n",
       "0   1        frog\n",
       "1   2       truck\n",
       "2   3       truck\n",
       "3   4        deer\n",
       "4   5  automobile"
      ]
     },
     "execution_count": 9,
     "metadata": {},
     "output_type": "execute_result"
    }
   ],
   "source": [
    "df_label.head()"
   ]
  },
  {
   "cell_type": "code",
   "execution_count": 10,
   "metadata": {
    "collapsed": false,
    "scrolled": true
   },
   "outputs": [
    {
     "data": {
      "text/plain": [
       "{'airplane': 9,\n",
       " 'automobile': 3,\n",
       " 'bird': 4,\n",
       " 'cat': 7,\n",
       " 'deer': 2,\n",
       " 'dog': 8,\n",
       " 'frog': 0,\n",
       " 'horse': 5,\n",
       " 'ship': 6,\n",
       " 'truck': 1}"
      ]
     },
     "execution_count": 10,
     "metadata": {},
     "output_type": "execute_result"
    }
   ],
   "source": [
    "## Create a dictionary with unique labels assigned number\n",
    "lab = list(df_label['label'].unique())\n",
    "lab_dic = {}\n",
    "for i in range(len(lab)):\n",
    "#     print(i)\n",
    "#     print(lab[i])\n",
    "    lab_dic[lab[i]] = i\n",
    "lab_dic"
   ]
  },
  {
   "cell_type": "code",
   "execution_count": 11,
   "metadata": {
    "collapsed": false,
    "scrolled": true
   },
   "outputs": [
    {
     "data": {
      "text/plain": [
       "7"
      ]
     },
     "execution_count": 11,
     "metadata": {},
     "output_type": "execute_result"
    }
   ],
   "source": [
    "a = 'cat'\n",
    "lab_dic.get(a)"
   ]
  },
  {
   "cell_type": "code",
   "execution_count": 12,
   "metadata": {
    "collapsed": false,
    "scrolled": true
   },
   "outputs": [],
   "source": [
    "# [lab_dic.get(i) for i in df_label['label'] ]"
   ]
  },
  {
   "cell_type": "code",
   "execution_count": null,
   "metadata": {
    "collapsed": true,
    "scrolled": true
   },
   "outputs": [],
   "source": []
  },
  {
   "cell_type": "code",
   "execution_count": 13,
   "metadata": {
    "collapsed": false,
    "scrolled": true
   },
   "outputs": [],
   "source": [
    "# df_label['label'].unique()"
   ]
  },
  {
   "cell_type": "code",
   "execution_count": 14,
   "metadata": {
    "collapsed": true,
    "scrolled": true
   },
   "outputs": [],
   "source": [
    "np_label = np.array([lab_dic.get(i) for i in df_label['label'] ])"
   ]
  },
  {
   "cell_type": "code",
   "execution_count": 15,
   "metadata": {
    "collapsed": false,
    "scrolled": true
   },
   "outputs": [
    {
     "data": {
      "text/plain": [
       "(50000,)"
      ]
     },
     "execution_count": 15,
     "metadata": {},
     "output_type": "execute_result"
    }
   ],
   "source": [
    "np_label.shape"
   ]
  },
  {
   "cell_type": "code",
   "execution_count": 16,
   "metadata": {
    "collapsed": false,
    "scrolled": true
   },
   "outputs": [
    {
     "name": "stderr",
     "output_type": "stream",
     "text": [
      "Using TensorFlow backend.\n"
     ]
    }
   ],
   "source": [
    "import keras"
   ]
  },
  {
   "cell_type": "code",
   "execution_count": 17,
   "metadata": {
    "collapsed": false,
    "scrolled": true
   },
   "outputs": [],
   "source": [
    "y_nplabel = keras.utils.to_categorical(np_label)"
   ]
  },
  {
   "cell_type": "code",
   "execution_count": 18,
   "metadata": {
    "collapsed": false,
    "scrolled": true
   },
   "outputs": [
    {
     "data": {
      "text/plain": [
       "10"
      ]
     },
     "execution_count": 18,
     "metadata": {},
     "output_type": "execute_result"
    }
   ],
   "source": [
    "num_classes = y_nplabel.shape[1]\n",
    "num_classes"
   ]
  },
  {
   "cell_type": "code",
   "execution_count": null,
   "metadata": {
    "collapsed": true,
    "scrolled": true
   },
   "outputs": [],
   "source": []
  },
  {
   "cell_type": "markdown",
   "metadata": {},
   "source": [
    "# Deploy CNN"
   ]
  },
  {
   "cell_type": "code",
   "execution_count": 19,
   "metadata": {
    "collapsed": false,
    "scrolled": true
   },
   "outputs": [],
   "source": [
    "from keras.models import Sequential\n",
    "from keras.layers import Dense\n",
    "from keras.layers import Dropout\n",
    "from keras.layers import Flatten\n",
    "from keras.constraints import maxnorm\n",
    "from keras.optimizers import SGD\n",
    "from keras.layers.convolutional import Conv2D\n",
    "from keras.layers.convolutional import MaxPooling2D\n",
    "from keras.utils import np_utils\n",
    "from keras import backend as K\n",
    "K.set_image_dim_ordering('th')"
   ]
  },
  {
   "cell_type": "code",
   "execution_count": 20,
   "metadata": {
    "collapsed": true
   },
   "outputs": [],
   "source": [
    "epochs = 50"
   ]
  },
  {
   "cell_type": "code",
   "execution_count": 21,
   "metadata": {
    "collapsed": false,
    "scrolled": true
   },
   "outputs": [],
   "source": [
    "# # Create the model\n",
    "# model = Sequential()\n",
    "# model.add(Conv2D(32, (3, 3), input_shape=(3, 32, 32), padding='same', activation='relu', kernel_constraint=maxnorm(3)))\n",
    "# model.add(Dropout(0.2))\n",
    "# model.add(Conv2D(32, (3, 3), activation='relu', padding='same', kernel_constraint=maxnorm(3)))\n",
    "# model.add(MaxPooling2D(pool_size=(2, 2)))\n",
    "# model.add(Flatten())\n",
    "# model.add(Dense(512, activation='relu', kernel_constraint=maxnorm(3)))\n",
    "# model.add(Dropout(0.5))\n",
    "# model.add(Dense(num_classes, activation='softmax'))\n",
    "# # Compile model\n",
    "# epochs = 25\n",
    "# lrate = 0.01\n",
    "# decay = lrate/epochs\n",
    "# sgd = SGD(lr=lrate, momentum=0.9, decay=decay, nesterov=False)\n",
    "# model.compile(loss='categorical_crossentropy', optimizer=sgd, metrics=['accuracy'])\n",
    "# print(model.summary())"
   ]
  },
  {
   "cell_type": "code",
   "execution_count": 22,
   "metadata": {
    "collapsed": false,
    "scrolled": true
   },
   "outputs": [],
   "source": [
    "def simplex_model():\n",
    "    model = Sequential()\n",
    "    # Convolutional Layer\n",
    "    model.add(Conv2D(32, (3,3), input_shape = (32,32,3), activation='relu'))\n",
    "\n",
    "    # Pooling Layer\n",
    "    model.add(MaxPooling2D(pool_size=(1, 1)))\n",
    "\n",
    "    # Fully conected Layer\n",
    "    model.add(Flatten())\n",
    "    model.add(Dense(num_classes, activation='softmax'))\n",
    "\n",
    "#     epochs = 20\n",
    "    lrate = 0.01\n",
    "    decay = lrate/epochs\n",
    "    sgd = SGD(lr=lrate, momentum=0.9, decay=decay, nesterov=False)\n",
    "\n",
    "    model.compile(loss='categorical_crossentropy', optimizer=sgd, metrics=['accuracy'])\n",
    "    print(model.summary())\n",
    "    \n",
    "    return model"
   ]
  },
  {
   "cell_type": "code",
   "execution_count": 23,
   "metadata": {
    "collapsed": true
   },
   "outputs": [],
   "source": [
    "def simple_model():\n",
    "    model = Sequential()\n",
    "    # Convolutional Layer\n",
    "    model.add(Conv2D(32, (3,3), input_shape = (32,32,3), activation='relu'))\n",
    "\n",
    "    model.add(Dropout(0.2))\n",
    "    model.add(Conv2D(32, (3, 3), activation='relu', padding='same', kernel_constraint=maxnorm(3)))\n",
    "    model.add(MaxPooling2D(pool_size=(2, 1)))\n",
    "    model.add(Flatten())\n",
    "    model.add(Dense(512, activation='relu', kernel_constraint=maxnorm(3)))\n",
    "    model.add(Dropout(0.5))\n",
    "    model.add(Dense(num_classes, activation='softmax'))\n",
    "\n",
    "\n",
    "    \n",
    "    lrate = 0.01\n",
    "    decay = lrate/epochs\n",
    "    sgd = SGD(lr=lrate, momentum=0.9, decay=decay, nesterov=False)\n",
    "\n",
    "    model.compile(loss='categorical_crossentropy', optimizer=sgd, metrics=['accuracy'])\n",
    "    print(model.summary())\n",
    "    \n",
    "    return model\n"
   ]
  },
  {
   "cell_type": "code",
   "execution_count": 24,
   "metadata": {
    "collapsed": false
   },
   "outputs": [
    {
     "name": "stdout",
     "output_type": "stream",
     "text": [
      "_________________________________________________________________\n",
      "Layer (type)                 Output Shape              Param #   \n",
      "=================================================================\n",
      "conv2d_1 (Conv2D)            (None, 32, 30, 1)         9248      \n",
      "_________________________________________________________________\n",
      "dropout_1 (Dropout)          (None, 32, 30, 1)         0         \n",
      "_________________________________________________________________\n",
      "conv2d_2 (Conv2D)            (None, 32, 30, 1)         9248      \n",
      "_________________________________________________________________\n",
      "max_pooling2d_1 (MaxPooling2 (None, 32, 15, 1)         0         \n",
      "_________________________________________________________________\n",
      "flatten_1 (Flatten)          (None, 480)               0         \n",
      "_________________________________________________________________\n",
      "dense_1 (Dense)              (None, 512)               246272    \n",
      "_________________________________________________________________\n",
      "dropout_2 (Dropout)          (None, 512)               0         \n",
      "_________________________________________________________________\n",
      "dense_2 (Dense)              (None, 10)                5130      \n",
      "=================================================================\n",
      "Total params: 269,898.0\n",
      "Trainable params: 269,898.0\n",
      "Non-trainable params: 0.0\n",
      "_________________________________________________________________\n",
      "None\n"
     ]
    }
   ],
   "source": [
    "model = simple_model()"
   ]
  },
  {
   "cell_type": "code",
   "execution_count": 25,
   "metadata": {
    "collapsed": false,
    "scrolled": true
   },
   "outputs": [
    {
     "name": "stdout",
     "output_type": "stream",
     "text": [
      "Train on 35000 samples, validate on 15000 samples\n",
      "Epoch 1/50\n",
      "35000/35000 [==============================] - 34s - loss: 1.9435 - acc: 0.2878 - val_loss: 1.7932 - val_acc: 0.3641\n",
      "Epoch 2/50\n",
      "35000/35000 [==============================] - 37s - loss: 1.7580 - acc: 0.3622 - val_loss: 1.7125 - val_acc: 0.3857\n",
      "Epoch 3/50\n",
      "35000/35000 [==============================] - 39s - loss: 1.6762 - acc: 0.3953 - val_loss: 1.6341 - val_acc: 0.4151\n",
      "Epoch 4/50\n",
      "35000/35000 [==============================] - 40s - loss: 1.6124 - acc: 0.4202 - val_loss: 1.5829 - val_acc: 0.4290\n",
      "Epoch 5/50\n",
      "35000/35000 [==============================] - 41s - loss: 1.5646 - acc: 0.4385 - val_loss: 1.5237 - val_acc: 0.4551\n",
      "Epoch 6/50\n",
      "35000/35000 [==============================] - 40s - loss: 1.5283 - acc: 0.4502 - val_loss: 1.5889 - val_acc: 0.4342\n",
      "Epoch 7/50\n",
      "35000/35000 [==============================] - 40s - loss: 1.4888 - acc: 0.4658 - val_loss: 1.5066 - val_acc: 0.4651\n",
      "Epoch 8/50\n",
      "35000/35000 [==============================] - 42s - loss: 1.4609 - acc: 0.4778 - val_loss: 1.4534 - val_acc: 0.4835\n",
      "Epoch 9/50\n",
      "35000/35000 [==============================] - 42s - loss: 1.4360 - acc: 0.4854 - val_loss: 1.4508 - val_acc: 0.4771\n",
      "Epoch 10/50\n",
      "35000/35000 [==============================] - 44s - loss: 1.4178 - acc: 0.4939 - val_loss: 1.4306 - val_acc: 0.4946\n",
      "Epoch 11/50\n",
      "35000/35000 [==============================] - 42s - loss: 1.3929 - acc: 0.5023 - val_loss: 1.4090 - val_acc: 0.4942\n",
      "Epoch 12/50\n",
      "35000/35000 [==============================] - 42s - loss: 1.3754 - acc: 0.5071 - val_loss: 1.4047 - val_acc: 0.4947\n",
      "Epoch 13/50\n",
      "35000/35000 [==============================] - 43s - loss: 1.3568 - acc: 0.5160 - val_loss: 1.3973 - val_acc: 0.5012\n",
      "Epoch 14/50\n",
      "35000/35000 [==============================] - 43s - loss: 1.3429 - acc: 0.5208 - val_loss: 1.4052 - val_acc: 0.4996\n",
      "Epoch 15/50\n",
      "35000/35000 [==============================] - 43s - loss: 1.3242 - acc: 0.5285 - val_loss: 1.3646 - val_acc: 0.5179\n",
      "Epoch 16/50\n",
      "35000/35000 [==============================] - 43s - loss: 1.3102 - acc: 0.5347 - val_loss: 1.3620 - val_acc: 0.5176\n",
      "Epoch 17/50\n",
      "35000/35000 [==============================] - 44s - loss: 1.3005 - acc: 0.5374 - val_loss: 1.3577 - val_acc: 0.5152\n",
      "Epoch 18/50\n",
      "35000/35000 [==============================] - 43s - loss: 1.2865 - acc: 0.5397 - val_loss: 1.3518 - val_acc: 0.5217\n",
      "Epoch 19/50\n",
      "35000/35000 [==============================] - 43s - loss: 1.2657 - acc: 0.5483 - val_loss: 1.3343 - val_acc: 0.5282\n",
      "Epoch 20/50\n",
      "35000/35000 [==============================] - 43s - loss: 1.2680 - acc: 0.5471 - val_loss: 1.3604 - val_acc: 0.5174\n",
      "Epoch 21/50\n",
      "35000/35000 [==============================] - 44s - loss: 1.2544 - acc: 0.5536 - val_loss: 1.3437 - val_acc: 0.5258\n",
      "Epoch 22/50\n",
      "35000/35000 [==============================] - 45s - loss: 1.2427 - acc: 0.5554 - val_loss: 1.3333 - val_acc: 0.5289\n",
      "Epoch 23/50\n",
      "35000/35000 [==============================] - 44s - loss: 1.2267 - acc: 0.5622 - val_loss: 1.3336 - val_acc: 0.5273\n",
      "Epoch 24/50\n",
      "35000/35000 [==============================] - 44s - loss: 1.2187 - acc: 0.5641 - val_loss: 1.3208 - val_acc: 0.5342\n",
      "Epoch 25/50\n",
      "35000/35000 [==============================] - 42s - loss: 1.2106 - acc: 0.5676 - val_loss: 1.3175 - val_acc: 0.5330\n",
      "Epoch 26/50\n",
      "35000/35000 [==============================] - 44s - loss: 1.1981 - acc: 0.5739 - val_loss: 1.3201 - val_acc: 0.5369\n",
      "Epoch 27/50\n",
      "35000/35000 [==============================] - 42s - loss: 1.1910 - acc: 0.5741 - val_loss: 1.3088 - val_acc: 0.5367\n",
      "Epoch 28/50\n",
      "35000/35000 [==============================] - 43s - loss: 1.1844 - acc: 0.5735 - val_loss: 1.3059 - val_acc: 0.5379\n",
      "Epoch 29/50\n",
      "35000/35000 [==============================] - 43s - loss: 1.1822 - acc: 0.5793 - val_loss: 1.3082 - val_acc: 0.5403\n",
      "Epoch 30/50\n",
      "35000/35000 [==============================] - 42s - loss: 1.1708 - acc: 0.5827 - val_loss: 1.3019 - val_acc: 0.5437\n",
      "Epoch 31/50\n",
      "35000/35000 [==============================] - 41s - loss: 1.1657 - acc: 0.5840 - val_loss: 1.3054 - val_acc: 0.5434\n",
      "Epoch 32/50\n",
      "35000/35000 [==============================] - 42s - loss: 1.1596 - acc: 0.5839 - val_loss: 1.2933 - val_acc: 0.5424\n",
      "Epoch 33/50\n",
      "35000/35000 [==============================] - 42s - loss: 1.1468 - acc: 0.5936 - val_loss: 1.3029 - val_acc: 0.5418\n",
      "Epoch 34/50\n",
      "35000/35000 [==============================] - 41s - loss: 1.1382 - acc: 0.5916 - val_loss: 1.3069 - val_acc: 0.5450\n",
      "Epoch 35/50\n",
      "35000/35000 [==============================] - 41s - loss: 1.1389 - acc: 0.5912 - val_loss: 1.2921 - val_acc: 0.5506\n",
      "Epoch 36/50\n",
      "35000/35000 [==============================] - 40s - loss: 1.1257 - acc: 0.5972 - val_loss: 1.2918 - val_acc: 0.5498\n",
      "Epoch 37/50\n",
      "35000/35000 [==============================] - 39s - loss: 1.1211 - acc: 0.5987 - val_loss: 1.2918 - val_acc: 0.5486\n",
      "Epoch 38/50\n",
      "35000/35000 [==============================] - 38s - loss: 1.1193 - acc: 0.5989 - val_loss: 1.2962 - val_acc: 0.5481\n",
      "Epoch 39/50\n",
      "35000/35000 [==============================] - 39s - loss: 1.1139 - acc: 0.6015 - val_loss: 1.2988 - val_acc: 0.5493\n",
      "Epoch 40/50\n",
      "35000/35000 [==============================] - 38s - loss: 1.1019 - acc: 0.6060 - val_loss: 1.2852 - val_acc: 0.5541\n",
      "Epoch 41/50\n",
      "35000/35000 [==============================] - 38s - loss: 1.0984 - acc: 0.6060 - val_loss: 1.3069 - val_acc: 0.5434\n",
      "Epoch 42/50\n",
      "35000/35000 [==============================] - 38s - loss: 1.0999 - acc: 0.6074 - val_loss: 1.2872 - val_acc: 0.5525\n",
      "Epoch 43/50\n",
      "35000/35000 [==============================] - 37s - loss: 1.0892 - acc: 0.6107 - val_loss: 1.2847 - val_acc: 0.5536\n",
      "Epoch 44/50\n",
      "35000/35000 [==============================] - 38s - loss: 1.0833 - acc: 0.6125 - val_loss: 1.2793 - val_acc: 0.5555\n",
      "Epoch 45/50\n",
      "35000/35000 [==============================] - 37s - loss: 1.0754 - acc: 0.6152 - val_loss: 1.2870 - val_acc: 0.5531\n",
      "Epoch 46/50\n",
      "35000/35000 [==============================] - 36s - loss: 1.0778 - acc: 0.6142 - val_loss: 1.2898 - val_acc: 0.5531\n",
      "Epoch 47/50\n",
      "35000/35000 [==============================] - 37s - loss: 1.0671 - acc: 0.6187 - val_loss: 1.2847 - val_acc: 0.5539\n",
      "Epoch 48/50\n",
      "35000/35000 [==============================] - 36s - loss: 1.0654 - acc: 0.6178 - val_loss: 1.2902 - val_acc: 0.5561\n",
      "Epoch 49/50\n",
      "35000/35000 [==============================] - 36s - loss: 1.0579 - acc: 0.6235 - val_loss: 1.3008 - val_acc: 0.5542\n",
      "Epoch 50/50\n",
      "35000/35000 [==============================] - 36s - loss: 1.0525 - acc: 0.6228 - val_loss: 1.2883 - val_acc: 0.5543\n"
     ]
    },
    {
     "data": {
      "text/plain": [
       "<keras.callbacks.History at 0x1f70194e6a0>"
      ]
     },
     "execution_count": 25,
     "metadata": {},
     "output_type": "execute_result"
    }
   ],
   "source": [
    "# Fit the model\n",
    "model.fit(np_train, y_nplabel, validation_split=0.3, epochs=epochs, batch_size=32)"
   ]
  },
  {
   "cell_type": "code",
   "execution_count": 26,
   "metadata": {
    "collapsed": true,
    "scrolled": true
   },
   "outputs": [],
   "source": [
    "model.save('F:/cifar10/model/my_simple_model_50.h5')"
   ]
  },
  {
   "cell_type": "markdown",
   "metadata": {},
   "source": [
    "## Prediction"
   ]
  },
  {
   "cell_type": "code",
   "execution_count": 1,
   "metadata": {
    "collapsed": false,
    "scrolled": true
   },
   "outputs": [
    {
     "name": "stderr",
     "output_type": "stream",
     "text": [
      "Using TensorFlow backend.\n"
     ]
    }
   ],
   "source": [
    "## load save model\n",
    "from keras.models import load_model"
   ]
  },
  {
   "cell_type": "code",
   "execution_count": 2,
   "metadata": {
    "collapsed": false
   },
   "outputs": [],
   "source": [
    "my_model = load_model('F:/cifar10/model/my_simple_model_50.h5')"
   ]
  },
  {
   "cell_type": "code",
   "execution_count": 6,
   "metadata": {
    "collapsed": false,
    "scrolled": true
   },
   "outputs": [],
   "source": [
    "# convert test data to ndarray\n",
    "test_path = 'F:/cifar10/data/test/'\n",
    "np_test = convert_images_to_array(test_path, 300000)"
   ]
  },
  {
   "cell_type": "code",
   "execution_count": 7,
   "metadata": {
    "collapsed": false,
    "scrolled": true
   },
   "outputs": [
    {
     "name": "stdout",
     "output_type": "stream",
     "text": [
      "test data shape (300000, 32, 32, 3)\n"
     ]
    }
   ],
   "source": [
    "# print('train data shape', np_train.shape)\n",
    "print('test data shape', np_test.shape)"
   ]
  },
  {
   "cell_type": "code",
   "execution_count": null,
   "metadata": {
    "collapsed": false,
    "scrolled": true
   },
   "outputs": [],
   "source": [
    "# Normalize data\n",
    "np_test = np_test.astype('float32')\n",
    "np_test = np_test/255.0"
   ]
  },
  {
   "cell_type": "code",
   "execution_count": 26,
   "metadata": {
    "collapsed": false
   },
   "outputs": [
    {
     "name": "stdout",
     "output_type": "stream",
     "text": [
      "0\n",
      "3\n",
      "3\n",
      "6\n",
      "6\n",
      "9\n",
      "9\n",
      "12\n",
      "12\n",
      "15\n",
      "15\n",
      "17\n"
     ]
    }
   ],
   "source": [
    "\n",
    "start = 0\n",
    "end = 17\n",
    "batch_size=3\n",
    "\n",
    "# convert test data to ndarray\n",
    "test_path = 'F:/cifar10/data/test/'\n",
    "# np_test = convert_images_to_array(test_path, 300000)\n",
    "\n",
    "tmp_lst = []\n",
    "\n",
    "# for i in xrange(0, len(worklist), batch_size):\n",
    "for i in np.arange(start, end, batch_size):\n",
    "    if(i + batch_size > end):\n",
    "        if(i + batch_size < end):\n",
    "            pass\n",
    "        else:\n",
    "#             print(i, end)\n",
    "            tmp_lst.append(tuple((i, end)))\n",
    "    else:\n",
    "#         print(i, i + batch_size)\n",
    "        tmp_lst.append(tuple((i, i + batch_size)))\n",
    "\n",
    "for i, j in tmp_lst:\n",
    "    print(i)\n",
    "    print(j)"
   ]
  },
  {
   "cell_type": "code",
   "execution_count": null,
   "metadata": {
    "collapsed": true
   },
   "outputs": [],
   "source": [
    "def get_batch_submission(model, data, batch_size):\n",
    "    np_prediction = model.predict_classes(data)\n",
    "\n",
    "    lst_prd = []\n",
    "    for j in np_prediction:\n",
    "        for i in lab_dic.items():\n",
    "            if(i[1] == j):\n",
    "                lst_prd.append(i[0])\n",
    "    #             print(i)\n",
    "    #             print(i[1])\n",
    "    #             print(i[0])\n",
    "    lst_prd\n",
    "\n",
    "\n",
    "    df_submission = pd.DataFrame()\n",
    "    df_submission['id'] = list(range(1,len(np_prediction)+1))\n",
    "    df_submission['label'] = lst_prd\n",
    "\n",
    "    return df_submission"
   ]
  },
  {
   "cell_type": "code",
   "execution_count": null,
   "metadata": {
    "collapsed": false
   },
   "outputs": [],
   "source": [
    "def get_submission(model, data):\n",
    "    np_prediction = model.predict_classes(data)\n",
    "\n",
    "    lst_prd = []\n",
    "    for j in np_prediction:\n",
    "        for i in lab_dic.items():\n",
    "            if(i[1] == j):\n",
    "                lst_prd.append(i[0])\n",
    "    #             print(i)\n",
    "    #             print(i[1])\n",
    "    #             print(i[0])\n",
    "    lst_prd\n",
    "\n",
    "\n",
    "    df_submission = pd.DataFrame()\n",
    "    df_submission['id'] = list(range(1,len(np_prediction)+1))\n",
    "    df_submission['label'] = lst_prd\n",
    "\n",
    "    return df_submission"
   ]
  },
  {
   "cell_type": "code",
   "execution_count": null,
   "metadata": {
    "collapsed": false,
    "scrolled": true
   },
   "outputs": [],
   "source": [
    "df_submission = get_submission(my_model,np_test)"
   ]
  },
  {
   "cell_type": "code",
   "execution_count": null,
   "metadata": {
    "collapsed": true,
    "scrolled": true
   },
   "outputs": [],
   "source": [
    "df_submission.to_csv('F:/cifar10/data/submission.csv', index=False)"
   ]
  },
  {
   "cell_type": "markdown",
   "metadata": {},
   "source": [
    "### Visualize the data"
   ]
  },
  {
   "cell_type": "code",
   "execution_count": null,
   "metadata": {
    "collapsed": true,
    "scrolled": true
   },
   "outputs": [],
   "source": [
    "from matplotlib import pyplot\n",
    "from scipy.misc import toimage"
   ]
  },
  {
   "cell_type": "code",
   "execution_count": null,
   "metadata": {
    "collapsed": false,
    "scrolled": true
   },
   "outputs": [],
   "source": [
    "pyplot.imshow(toimage(X_train[3]))\n",
    "pyplot.show()"
   ]
  }
 ],
 "metadata": {
  "anaconda-cloud": {},
  "kernelspec": {
   "display_name": "Python [conda root]",
   "language": "python",
   "name": "conda-root-py"
  },
  "language_info": {
   "codemirror_mode": {
    "name": "ipython",
    "version": 3
   },
   "file_extension": ".py",
   "mimetype": "text/x-python",
   "name": "python",
   "nbconvert_exporter": "python",
   "pygments_lexer": "ipython3",
   "version": "3.5.2"
  }
 },
 "nbformat": 4,
 "nbformat_minor": 1
}
