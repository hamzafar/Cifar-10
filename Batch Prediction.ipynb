{
 "cells": [
  {
   "cell_type": "markdown",
   "metadata": {},
   "source": [
    "# Data Preperation"
   ]
  },
  {
   "cell_type": "code",
   "execution_count": 1,
   "metadata": {
    "collapsed": true,
    "scrolled": true
   },
   "outputs": [],
   "source": [
    "from scipy import ndimage\n",
    "import numpy as np\n",
    "np.random.seed(123)"
   ]
  },
  {
   "cell_type": "code",
   "execution_count": 2,
   "metadata": {
    "collapsed": true,
    "scrolled": true
   },
   "outputs": [],
   "source": [
    "import pandas as pd"
   ]
  },
  {
   "cell_type": "code",
   "execution_count": 3,
   "metadata": {
    "collapsed": true,
    "scrolled": true
   },
   "outputs": [],
   "source": [
    "# tmp_array = ndimage.imread('F:/cifar10/data/train/2.png')\n",
    "\n",
    "# tmp_array.shape"
   ]
  },
  {
   "cell_type": "code",
   "execution_count": 4,
   "metadata": {
    "collapsed": false,
    "scrolled": true
   },
   "outputs": [],
   "source": [
    "def convert_images_to_array(path, end, start = 0):\n",
    "    lst_train = []\n",
    "#     train_path = 'F:/cifar10/data/train/'\n",
    "    for i in range(start, end):\n",
    "        val = (str(i+1))\n",
    "    #     print(train_path + val+'.png')\n",
    "        lst_train.append(ndimage.imread(path + val+'.png'))\n",
    "\n",
    "    #Convert list to nd array    \n",
    "    return(np.array(lst_train))"
   ]
  },
  {
   "cell_type": "code",
   "execution_count": null,
   "metadata": {
    "collapsed": false,
    "scrolled": true
   },
   "outputs": [],
   "source": [
    "# convert train data to ndarray\n",
    "train_path = 'F:/cifar10/data/train/'\n",
    "np_train = convert_images_to_array(train_path, 50000)"
   ]
  },
  {
   "cell_type": "code",
   "execution_count": null,
   "metadata": {
    "collapsed": false,
    "scrolled": true
   },
   "outputs": [],
   "source": [
    "print(np_train.shape)"
   ]
  },
  {
   "cell_type": "code",
   "execution_count": null,
   "metadata": {
    "collapsed": true,
    "scrolled": true
   },
   "outputs": [],
   "source": [
    "# Normalize data\n",
    "np_train = np_train.astype('float32')\n",
    "np_train = np_train/255.0"
   ]
  },
  {
   "cell_type": "markdown",
   "metadata": {},
   "source": [
    "## creating labels"
   ]
  },
  {
   "cell_type": "code",
   "execution_count": 5,
   "metadata": {
    "collapsed": false,
    "scrolled": true
   },
   "outputs": [],
   "source": [
    "df_label = pd.read_csv('F:/cifar10/data/trainLabels.csv')"
   ]
  },
  {
   "cell_type": "code",
   "execution_count": 6,
   "metadata": {
    "collapsed": false,
    "scrolled": true
   },
   "outputs": [
    {
     "data": {
      "text/html": [
       "<div>\n",
       "<table border=\"1\" class=\"dataframe\">\n",
       "  <thead>\n",
       "    <tr style=\"text-align: right;\">\n",
       "      <th></th>\n",
       "      <th>id</th>\n",
       "      <th>label</th>\n",
       "    </tr>\n",
       "  </thead>\n",
       "  <tbody>\n",
       "    <tr>\n",
       "      <th>0</th>\n",
       "      <td>1</td>\n",
       "      <td>frog</td>\n",
       "    </tr>\n",
       "    <tr>\n",
       "      <th>1</th>\n",
       "      <td>2</td>\n",
       "      <td>truck</td>\n",
       "    </tr>\n",
       "    <tr>\n",
       "      <th>2</th>\n",
       "      <td>3</td>\n",
       "      <td>truck</td>\n",
       "    </tr>\n",
       "    <tr>\n",
       "      <th>3</th>\n",
       "      <td>4</td>\n",
       "      <td>deer</td>\n",
       "    </tr>\n",
       "    <tr>\n",
       "      <th>4</th>\n",
       "      <td>5</td>\n",
       "      <td>automobile</td>\n",
       "    </tr>\n",
       "  </tbody>\n",
       "</table>\n",
       "</div>"
      ],
      "text/plain": [
       "   id       label\n",
       "0   1        frog\n",
       "1   2       truck\n",
       "2   3       truck\n",
       "3   4        deer\n",
       "4   5  automobile"
      ]
     },
     "execution_count": 6,
     "metadata": {},
     "output_type": "execute_result"
    }
   ],
   "source": [
    "df_label.head()"
   ]
  },
  {
   "cell_type": "code",
   "execution_count": 7,
   "metadata": {
    "collapsed": false,
    "scrolled": true
   },
   "outputs": [
    {
     "data": {
      "text/plain": [
       "{'airplane': 9,\n",
       " 'automobile': 3,\n",
       " 'bird': 4,\n",
       " 'cat': 7,\n",
       " 'deer': 2,\n",
       " 'dog': 8,\n",
       " 'frog': 0,\n",
       " 'horse': 5,\n",
       " 'ship': 6,\n",
       " 'truck': 1}"
      ]
     },
     "execution_count": 7,
     "metadata": {},
     "output_type": "execute_result"
    }
   ],
   "source": [
    "## Create a dictionary with unique labels assigned number\n",
    "lab = list(df_label['label'].unique())\n",
    "lab_dic = {}\n",
    "for i in range(len(lab)):\n",
    "#     print(i)\n",
    "#     print(lab[i])\n",
    "    lab_dic[lab[i]] = i\n",
    "lab_dic"
   ]
  },
  {
   "cell_type": "code",
   "execution_count": null,
   "metadata": {
    "collapsed": false,
    "scrolled": true
   },
   "outputs": [],
   "source": [
    "a = 'cat'\n",
    "lab_dic.get(a)"
   ]
  },
  {
   "cell_type": "code",
   "execution_count": null,
   "metadata": {
    "collapsed": false,
    "scrolled": true
   },
   "outputs": [],
   "source": [
    "# [lab_dic.get(i) for i in df_label['label'] ]"
   ]
  },
  {
   "cell_type": "code",
   "execution_count": null,
   "metadata": {
    "collapsed": true,
    "scrolled": true
   },
   "outputs": [],
   "source": []
  },
  {
   "cell_type": "code",
   "execution_count": null,
   "metadata": {
    "collapsed": false,
    "scrolled": true
   },
   "outputs": [],
   "source": [
    "# df_label['label'].unique()"
   ]
  },
  {
   "cell_type": "code",
   "execution_count": null,
   "metadata": {
    "collapsed": true,
    "scrolled": true
   },
   "outputs": [],
   "source": [
    "np_label = np.array([lab_dic.get(i) for i in df_label['label'] ])"
   ]
  },
  {
   "cell_type": "code",
   "execution_count": null,
   "metadata": {
    "collapsed": false,
    "scrolled": true
   },
   "outputs": [],
   "source": [
    "np_label.shape"
   ]
  },
  {
   "cell_type": "code",
   "execution_count": null,
   "metadata": {
    "collapsed": false,
    "scrolled": true
   },
   "outputs": [],
   "source": [
    "import keras"
   ]
  },
  {
   "cell_type": "code",
   "execution_count": null,
   "metadata": {
    "collapsed": false,
    "scrolled": true
   },
   "outputs": [],
   "source": [
    "y_nplabel = keras.utils.to_categorical(np_label)"
   ]
  },
  {
   "cell_type": "code",
   "execution_count": null,
   "metadata": {
    "collapsed": false,
    "scrolled": true
   },
   "outputs": [],
   "source": [
    "num_classes = y_nplabel.shape[1]\n",
    "num_classes"
   ]
  },
  {
   "cell_type": "code",
   "execution_count": null,
   "metadata": {
    "collapsed": true,
    "scrolled": true
   },
   "outputs": [],
   "source": []
  },
  {
   "cell_type": "markdown",
   "metadata": {},
   "source": [
    "# Deploy CNN"
   ]
  },
  {
   "cell_type": "code",
   "execution_count": null,
   "metadata": {
    "collapsed": false,
    "scrolled": true
   },
   "outputs": [],
   "source": [
    "from keras.models import Sequential\n",
    "from keras.layers import Dense\n",
    "from keras.layers import Dropout\n",
    "from keras.layers import Flatten\n",
    "from keras.constraints import maxnorm\n",
    "from keras.optimizers import SGD\n",
    "from keras.layers.convolutional import Conv2D\n",
    "from keras.layers.convolutional import MaxPooling2D\n",
    "from keras.utils import np_utils\n",
    "from keras import backend as K\n",
    "K.set_image_dim_ordering('th')"
   ]
  },
  {
   "cell_type": "code",
   "execution_count": null,
   "metadata": {
    "collapsed": true
   },
   "outputs": [],
   "source": [
    "epochs = 50"
   ]
  },
  {
   "cell_type": "code",
   "execution_count": null,
   "metadata": {
    "collapsed": false,
    "scrolled": true
   },
   "outputs": [],
   "source": [
    "# # Create the model\n",
    "# model = Sequential()\n",
    "# model.add(Conv2D(32, (3, 3), input_shape=(3, 32, 32), padding='same', activation='relu', kernel_constraint=maxnorm(3)))\n",
    "# model.add(Dropout(0.2))\n",
    "# model.add(Conv2D(32, (3, 3), activation='relu', padding='same', kernel_constraint=maxnorm(3)))\n",
    "# model.add(MaxPooling2D(pool_size=(2, 2)))\n",
    "# model.add(Flatten())\n",
    "# model.add(Dense(512, activation='relu', kernel_constraint=maxnorm(3)))\n",
    "# model.add(Dropout(0.5))\n",
    "# model.add(Dense(num_classes, activation='softmax'))\n",
    "# # Compile model\n",
    "# epochs = 25\n",
    "# lrate = 0.01\n",
    "# decay = lrate/epochs\n",
    "# sgd = SGD(lr=lrate, momentum=0.9, decay=decay, nesterov=False)\n",
    "# model.compile(loss='categorical_crossentropy', optimizer=sgd, metrics=['accuracy'])\n",
    "# print(model.summary())"
   ]
  },
  {
   "cell_type": "code",
   "execution_count": null,
   "metadata": {
    "collapsed": false,
    "scrolled": true
   },
   "outputs": [],
   "source": [
    "def simplex_model():\n",
    "    model = Sequential()\n",
    "    # Convolutional Layer\n",
    "    model.add(Conv2D(32, (3,3), input_shape = (32,32,3), activation='relu'))\n",
    "\n",
    "    # Pooling Layer\n",
    "    model.add(MaxPooling2D(pool_size=(1, 1)))\n",
    "\n",
    "    # Fully conected Layer\n",
    "    model.add(Flatten())\n",
    "    model.add(Dense(num_classes, activation='softmax'))\n",
    "\n",
    "#     epochs = 20\n",
    "    lrate = 0.01\n",
    "    decay = lrate/epochs\n",
    "    sgd = SGD(lr=lrate, momentum=0.9, decay=decay, nesterov=False)\n",
    "\n",
    "    model.compile(loss='categorical_crossentropy', optimizer=sgd, metrics=['accuracy'])\n",
    "    print(model.summary())\n",
    "    \n",
    "    return model"
   ]
  },
  {
   "cell_type": "code",
   "execution_count": null,
   "metadata": {
    "collapsed": true
   },
   "outputs": [],
   "source": [
    "def simple_model():\n",
    "    model = Sequential()\n",
    "    # Convolutional Layer\n",
    "    model.add(Conv2D(32, (3,3), input_shape = (32,32,3), activation='relu'))\n",
    "\n",
    "    model.add(Dropout(0.2))\n",
    "    model.add(Conv2D(32, (3, 3), activation='relu', padding='same', kernel_constraint=maxnorm(3)))\n",
    "    model.add(MaxPooling2D(pool_size=(2, 1)))\n",
    "    model.add(Flatten())\n",
    "    model.add(Dense(512, activation='relu', kernel_constraint=maxnorm(3)))\n",
    "    model.add(Dropout(0.5))\n",
    "    model.add(Dense(num_classes, activation='softmax'))\n",
    "\n",
    "\n",
    "    \n",
    "    lrate = 0.01\n",
    "    decay = lrate/epochs\n",
    "    sgd = SGD(lr=lrate, momentum=0.9, decay=decay, nesterov=False)\n",
    "\n",
    "    model.compile(loss='categorical_crossentropy', optimizer=sgd, metrics=['accuracy'])\n",
    "    print(model.summary())\n",
    "    \n",
    "    return model\n"
   ]
  },
  {
   "cell_type": "code",
   "execution_count": null,
   "metadata": {
    "collapsed": false
   },
   "outputs": [],
   "source": [
    "model = simple_model()"
   ]
  },
  {
   "cell_type": "code",
   "execution_count": null,
   "metadata": {
    "collapsed": false,
    "scrolled": true
   },
   "outputs": [],
   "source": [
    "# Fit the model\n",
    "model.fit(np_train, y_nplabel, validation_split=0.3, epochs=epochs, batch_size=32)"
   ]
  },
  {
   "cell_type": "code",
   "execution_count": null,
   "metadata": {
    "collapsed": true,
    "scrolled": true
   },
   "outputs": [],
   "source": [
    "model.save('F:/cifar10/model/my_simple_model_50.h5')"
   ]
  },
  {
   "cell_type": "markdown",
   "metadata": {},
   "source": [
    "## Prediction"
   ]
  },
  {
   "cell_type": "code",
   "execution_count": 8,
   "metadata": {
    "collapsed": false,
    "scrolled": true
   },
   "outputs": [
    {
     "name": "stderr",
     "output_type": "stream",
     "text": [
      "Using TensorFlow backend.\n"
     ]
    }
   ],
   "source": [
    "## load save model\n",
    "from keras.models import load_model"
   ]
  },
  {
   "cell_type": "code",
   "execution_count": 9,
   "metadata": {
    "collapsed": false
   },
   "outputs": [],
   "source": [
    "my_model = load_model('F:/cifar10/model/my_simple_model_50.h5')"
   ]
  },
  {
   "cell_type": "code",
   "execution_count": 20,
   "metadata": {
    "collapsed": true
   },
   "outputs": [],
   "source": [
    "def get_batch_submission(model, start=0, end=300000, batch_size=1000):\n",
    "    # convert test data to ndarray\n",
    "    test_path = 'F:/cifar10/data/test/'\n",
    "\n",
    "    lst_prd = []\n",
    "    tmp_lst = []\n",
    "\n",
    "    for i in np.arange(start, end, batch_size):\n",
    "        if(i + batch_size > end):\n",
    "            if(i + batch_size < end):\n",
    "                pass\n",
    "            else:\n",
    "                tmp_lst.append(tuple((i, end)))\n",
    "        else:\n",
    "            tmp_lst.append(tuple((i, i + batch_size)))\n",
    "\n",
    "    for i, j in tmp_lst:\n",
    "        np_test = convert_images_to_array(test_path, start=i, end=j)\n",
    "        print('start: ', i, 'end: ', j)\n",
    "        print('batch size: ', np_test.shape)\n",
    "        # Normalize data\n",
    "        np_test = np_test.astype('float32')\n",
    "        np_test = np_test/255.0\n",
    "\n",
    "        np_prediction = model.predict_classes(np_test)\n",
    "\n",
    "        for j in np_prediction:\n",
    "            for i in lab_dic.items():\n",
    "                if(i[1] == j):\n",
    "                    lst_prd.append(i[0])\n",
    "    print('Batch Completed')\n",
    "\n",
    "    df_submission = pd.DataFrame()\n",
    "    df_submission['id'] = list(range(1,len(lst_prd)+1))\n",
    "    df_submission['label'] = lst_prd\n",
    "\n",
    "    return df_submission"
   ]
  },
  {
   "cell_type": "code",
   "execution_count": null,
   "metadata": {
    "collapsed": false
   },
   "outputs": [],
   "source": [
    "df_submission = get_batch_submission(my_model, batch_size= 5000)"
   ]
  },
  {
   "cell_type": "code",
   "execution_count": null,
   "metadata": {
    "collapsed": false,
    "scrolled": true
   },
   "outputs": [],
   "source": [
    "df_submission.to_csv('F:/cifar10/data/submission.csv', index=False)"
   ]
  },
  {
   "cell_type": "code",
   "execution_count": null,
   "metadata": {
    "collapsed": false
   },
   "outputs": [],
   "source": [
    "def get_submission(model, data):\n",
    "    np_prediction = model.predict_classes(data)\n",
    "\n",
    "    lst_prd = []\n",
    "    for j in np_prediction:\n",
    "        for i in lab_dic.items():\n",
    "            if(i[1] == j):\n",
    "                lst_prd.append(i[0])\n",
    "    #             print(i)\n",
    "    #             print(i[1])\n",
    "    #             print(i[0])\n",
    "    lst_prd\n",
    "\n",
    "\n",
    "    df_submission = pd.DataFrame()\n",
    "    df_submission['id'] = list(range(1,len(np_prediction)+1))\n",
    "    df_submission['label'] = lst_prd\n",
    "\n",
    "    return df_submission"
   ]
  },
  {
   "cell_type": "code",
   "execution_count": null,
   "metadata": {
    "collapsed": false,
    "scrolled": true
   },
   "outputs": [],
   "source": [
    "# df_submission = get_submission(my_model,np_test)"
   ]
  },
  {
   "cell_type": "markdown",
   "metadata": {},
   "source": [
    "### Visualize the data"
   ]
  },
  {
   "cell_type": "code",
   "execution_count": null,
   "metadata": {
    "collapsed": true,
    "scrolled": true
   },
   "outputs": [],
   "source": [
    "from matplotlib import pyplot\n",
    "from scipy.misc import toimage"
   ]
  },
  {
   "cell_type": "code",
   "execution_count": null,
   "metadata": {
    "collapsed": false,
    "scrolled": true
   },
   "outputs": [],
   "source": [
    "pyplot.imshow(toimage(X_train[3]))\n",
    "pyplot.show()"
   ]
  },
  {
   "cell_type": "code",
   "execution_count": null,
   "metadata": {
    "collapsed": false
   },
   "outputs": [],
   "source": [
    "\n",
    "# start = 0\n",
    "# end = 17\n",
    "# batch_size=3\n",
    "\n",
    "# # convert test data to ndarray\n",
    "# test_path = 'F:/cifar10/data/test/'\n",
    "# # np_test = convert_images_to_array(test_path, 300000)\n",
    "\n",
    "# lst_prd = []\n",
    "# tmp_lst = []\n",
    "\n",
    "# # for i in xrange(0, len(worklist), batch_size):\n",
    "# for i in np.arange(start, end, batch_size):\n",
    "#     if(i + batch_size > end):\n",
    "#         if(i + batch_size < end):\n",
    "#             pass\n",
    "#         else:\n",
    "# #             print(i, end)\n",
    "#             tmp_lst.append(tuple((i, end)))\n",
    "#     else:\n",
    "# #         print(i, i + batch_size)\n",
    "#         tmp_lst.append(tuple((i, i + batch_size)))\n",
    "\n",
    "# for i, j in tmp_lst:\n",
    "#     np_test = convert_images_to_array(test_path, start=i, end=j)\n",
    "   \n",
    "#     # Normalize data\n",
    "#     np_test = np_test.astype('float32')\n",
    "#     np_test = np_test/255.0\n",
    "    \n",
    "#     print('test data shape', np_test.shape)\n",
    "    \n",
    "#     np_prediction = model.predict_classes(np_test)\n",
    "\n",
    "    \n",
    "#     for j in np_prediction:\n",
    "#         for i in lab_dic.items():\n",
    "#             if(i[1] == j):\n",
    "#                 lst_prd.append(i[0])\n",
    "#     #             print(i)\n",
    "#     #             print(i[1])\n",
    "#     #             print(i[0])\n",
    "#     lst_prd\n",
    "    \n",
    "# print(lst_prd)\n",
    "# df_submission = pd.DataFrame()\n",
    "# df_submission['id'] = list(range(1,len(np_prediction)+1))\n",
    "# df_submission['label'] = lst_prd\n",
    "\n",
    "# df_submission\n",
    "\n",
    "#     #     print(i)\n",
    "#     #     print(j)"
   ]
  }
 ],
 "metadata": {
  "anaconda-cloud": {},
  "kernelspec": {
   "display_name": "Python [conda root]",
   "language": "python",
   "name": "conda-root-py"
  },
  "language_info": {
   "codemirror_mode": {
    "name": "ipython",
    "version": 3
   },
   "file_extension": ".py",
   "mimetype": "text/x-python",
   "name": "python",
   "nbconvert_exporter": "python",
   "pygments_lexer": "ipython3",
   "version": "3.5.2"
  }
 },
 "nbformat": 4,
 "nbformat_minor": 1
}
